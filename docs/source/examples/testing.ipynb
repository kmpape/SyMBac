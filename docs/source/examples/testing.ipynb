{
 "cells": [
  {
   "cell_type": "code",
   "execution_count": 1,
   "id": "74f19909-0eeb-4473-accf-c1ad6e5ea741",
   "metadata": {},
   "outputs": [],
   "source": [
    "%load_ext autoreload\n",
    "%autoreload 2"
   ]
  },
  {
   "cell_type": "code",
   "execution_count": 2,
   "id": "a779b351-c2cb-426c-a2e5-d953d5e8261f",
   "metadata": {
    "tags": []
   },
   "outputs": [],
   "source": [
    "import sys\n",
    "sys.path.insert(1, '/home/georgeos/Documents/SyMBac/') # Not needed if you installed SyMBac using pip\n",
    "\n",
    "from SyMBac.simulation import Simulation\n",
    "from SyMBac.PSF import PSF_generator\n",
    "from SyMBac.renderer import Renderer\n",
    "from SyMBac.PSF import Camera\n",
    "from SyMBac.misc import get_sample_images\n",
    "real_image = get_sample_images()[\"E. coli 100x\"]"
   ]
  },
  {
   "cell_type": "code",
   "execution_count": 3,
   "id": "cf5edc5d-fdc5-42d6-b41c-53132a76242c",
   "metadata": {},
   "outputs": [],
   "source": [
    "from SyMBac.cell_geometry import get_vertices\n",
    "import matplotlib.pyplot as plt\n",
    "import numpy as np"
   ]
  },
  {
   "cell_type": "code",
   "execution_count": 4,
   "id": "add466d9-c988-4db2-b2fa-62ff4da8e268",
   "metadata": {},
   "outputs": [],
   "source": [
    "cell_verts = get_vertices(6,1,np.pi/2,40)\n",
    "x_verts, y_verts = [_[0] for _ in cell_verts], [_[1] for _ in cell_verts]"
   ]
  },
  {
   "cell_type": "code",
   "execution_count": 5,
   "id": "aacd9594",
   "metadata": {},
   "outputs": [
    {
     "data": {
      "text/plain": [
       "array([2., 3., 4., 5., 6., 7., 8., 9.])"
      ]
     },
     "execution_count": 5,
     "metadata": {},
     "output_type": "execute_result"
    }
   ],
   "source": [
    "x = np.linspace(1,10,10)\n",
    "x[1:-1]"
   ]
  },
  {
   "cell_type": "code",
   "execution_count": 6,
   "id": "ffcbd60c",
   "metadata": {},
   "outputs": [
    {
     "data": {
      "text/plain": [
       "(-0.5500000000000002, 0.5500000000000002, -3.3, 3.3)"
      ]
     },
     "execution_count": 6,
     "metadata": {},
     "output_type": "execute_result"
    },
    {
     "data": {
      "image/png": "[encoded data removed]",
      "text/plain": [
       "<Figure size 640x480 with 1 Axes>"
      ]
     },
     "metadata": {},
     "output_type": "display_data"
    }
   ],
   "source": [
    "from SyMBac.cell_geometry import *\n",
    "cell_length=6 \n",
    "cell_width=1 \n",
    "angle=np.pi/2\n",
    "resolution=5\n",
    "cell_verts = get_vertices(6,1,np.pi/2,resolution)\n",
    "x_verts, y_verts = [_[0] for _ in cell_verts], [_[1] for _ in cell_verts]\n",
    "\n",
    "plt.figure()\n",
    "plt.scatter(x_verts, y_verts)\n",
    "plt.axis('equal')"
   ]
  },
  {
   "cell_type": "code",
   "execution_count": 1,
   "id": "a6898a48-29b8-4959-a0ba-14155eaf0eb5",
   "metadata": {},
   "outputs": [],
   "source": [
    "from SyMBac.cell_simulation import run_simulation, create_space, trench_creator, step_and_update\n",
    "from SyMBac.cell import Cell\n",
    "import numpy as np\n",
    "from pymunk.pyglet_util import DrawOptions\n",
    "import pymunk\n",
    "import pyglet"
   ]
  },
  {
   "cell_type": "code",
   "execution_count": 2,
   "id": "b9f0ac56-897e-4e2c-bfc8-62d39fa4ad6d",
   "metadata": {},
   "outputs": [],
   "source": [
    "gravity = 0 \n",
    "pix_mic_conv = 0.065\n",
    "trench_length = 20\n",
    "trench_width = 1.1\n",
    "cell_max_length = 4\n",
    "cell_width = 1\n",
    "max_length_var = 0\n",
    "width_var = 0\n",
    "lysis_p = 0\n",
    "show_window = True\n",
    "phys_iters = 10\n",
    "sim_length = 1000\n",
    "save_dir = \"/tmp/\"\n",
    "\n",
    "space = create_space()\n",
    "space.gravity = 0, gravity  # arbitrary units, negative is toward trench pole\n",
    "#space.iterations = 1000\n",
    "#space.damping = 0\n",
    "#space.collision_bias = 0.0017970074436457143*10\n",
    "space.collision_slop = 0.\n",
    "dt = 1 / 100  # time-step per frame\n",
    "scale_factor = 3 / pix_mic_conv # resolution scaling factor\n",
    "\n",
    "trench_length = trench_length * scale_factor\n",
    "trench_width = trench_width * scale_factor\n",
    "trench_pos = (35, 0)\n",
    "trench_creator(trench_width, trench_length, trench_pos, space)  # Coordinates of bottom left corner of the trench\n",
    "\n",
    "in_trench = False\n",
    "if in_trench:\n",
    "    cell1_pos = (trench_pos[0]+0.5*trench_width,trench_pos[1]+0.1*trench_length)\n",
    "else:\n",
    "    cell1_pos = (trench_pos[0]+trench_width*3, trench_pos[1]+0.5*trench_length)\n",
    "\n",
    "cell1 = Cell(\n",
    "    length=cell_max_length/2 * scale_factor,\n",
    "    width=cell_width * scale_factor,\n",
    "    resolution=60,\n",
    "    position=cell1_pos,\n",
    "    angle=np.pi/2,\n",
    "    space=space,\n",
    "    max_length=cell_max_length * scale_factor,\n",
    "    max_length_mean=cell_max_length * scale_factor,\n",
    "    max_length_var=max_length_var * np.sqrt(scale_factor),\n",
    "    width_var=width_var * np.sqrt(scale_factor),\n",
    "    width_mean=cell_width * scale_factor,\n",
    "    parent=None,\n",
    "    lysis_p=lysis_p,\n",
    ")\n",
    "\n",
    "if show_window:\n",
    "\n",
    "    window = pyglet.window.Window(700, 700, \"SyMBac\", resizable=True)\n",
    "    options = DrawOptions()\n",
    "    options.shape_outline_color = (10,20,30,40)\n",
    "    @window.event\n",
    "    def on_draw():\n",
    "        window.clear()\n",
    "        space.debug_draw(options)\n",
    "\n",
    "    # key press event\n",
    "    @window.event\n",
    "    def on_key_press(symbol, modifier):\n",
    "\n",
    "        # key \"E\" get press\n",
    "        if symbol == pyglet.window.key.E:\n",
    "            # close the window\n",
    "            window.close()\n",
    "\n",
    "\n",
    "\n",
    "x = [0]\n",
    "cell_timeseries = []\n",
    "cells = [cell1]\n",
    "if show_window:\n",
    "    pyglet.clock.schedule_interval(step_and_update, interval=dt, cells=cells, space=space, phys_iters=phys_iters,\n",
    "                                   ylim=trench_length, cell_timeseries=cell_timeseries, x=x, sim_length=sim_length,\n",
    "                                   save_dir=save_dir)\n",
    "    pyglet.app.run()\n",
    "else:\n",
    "    for _ in tqdm(range(sim_length+2)):\n",
    "        step_and_update(\n",
    "            dt=dt, cells=cells, space=space, phys_iters=phys_iters, ylim=trench_length,\n",
    "            cell_timeseries=cell_timeseries, x=x, sim_length=sim_length, save_dir=save_dir\n",
    "        )\n",
    "\n",
    "\n",
    "# window.close()\n",
    "# phys_iters = phys_iters\n",
    "# for x in tqdm(range(sim_length+250),desc=\"Simulation Progress\"):\n",
    "#    cells = step_and_update(dt=dt, cells=cells, space=space, phys_iters=phys_iters,ylim=trench_length*1.1, cell_timeseries = cell_timeseries, x=x, sim_length = sim_length, save_dir = save_dir)\n",
    "#    if x > 250:\n",
    "#        cell_timeseries.append(deepcopy(cells))"
   ]
  },
  {
   "cell_type": "code",
   "execution_count": 1,
   "id": "69a7dd95",
   "metadata": {},
   "outputs": [
    {
     "data": {
      "text/plain": [
       "(-50.383581422617596,\n",
       " 50.38358142261759,\n",
       " -25.384615384615383,\n",
       " 25.384615384615383)"
      ]
     },
     "execution_count": 1,
     "metadata": {},
     "output_type": "execute_result"
    },
    {
     "data": {
      "image/png": "[encoded data removed]",
      "text/plain": [
       "<Figure size 640x480 with 1 Axes>"
      ]
     },
     "metadata": {},
     "output_type": "display_data"
    }
   ],
   "source": [
    "from SyMBac.cell_simulation import run_simulation, create_space, trench_creator, step_and_update2\n",
    "from SyMBac.cell import Cell, Cell2\n",
    "import numpy as np\n",
    "from pymunk.pyglet_util import DrawOptions\n",
    "import pymunk\n",
    "import pyglet\n",
    "import matplotlib.pyplot as plt\n",
    "import numpy as np\n",
    "gravity = 0 \n",
    "pix_mic_conv = 0.065\n",
    "trench_length = 20\n",
    "trench_width = 1.1\n",
    "cell_max_length = 4\n",
    "cell_width = 1\n",
    "max_length_var = 0\n",
    "width_var = 0\n",
    "lysis_p = 0\n",
    "show_window = True\n",
    "phys_iters = 10\n",
    "sim_length = 1000\n",
    "save_dir = \"/tmp/\"\n",
    "\n",
    "space = create_space()\n",
    "space.gravity = 0, gravity  # arbitrary units, negative is toward trench pole\n",
    "#space.iterations = 1000\n",
    "#space.damping = 0\n",
    "#space.collision_bias = 0.0017970074436457143*10\n",
    "space.collision_slop = 0.\n",
    "dt = 1 / 100  # time-step per frame\n",
    "scale_factor = 3 / pix_mic_conv # resolution scaling factor\n",
    "\n",
    "trench_length = trench_length * scale_factor\n",
    "trench_width = trench_width * scale_factor\n",
    "trench_pos = (35, 0)\n",
    "trench_creator(trench_width, trench_length, trench_pos, space)  # Coordinates of bottom left corner of the trench\n",
    "\n",
    "in_trench = False\n",
    "if in_trench:\n",
    "    cell1_pos = (trench_pos[0]+0.5*trench_width,trench_pos[1]+0.1*trench_length)\n",
    "else:\n",
    "    cell1_pos = (trench_pos[0]+trench_width*3, trench_pos[1]+0.5*trench_length)\n",
    "\n",
    "cell1: Cell2 = Cell2(\n",
    "    length=cell_max_length/2 * scale_factor,\n",
    "    width=cell_width * scale_factor,\n",
    "    position=cell1_pos,\n",
    "    self_id = 0,\n",
    "    angle=np.pi/2,\n",
    "    max_length=cell_max_length * scale_factor,\n",
    "    mother_above_daughter=True,\n",
    ")\n",
    "\n",
    "cell_verts = cell1.geometry.get_vertices().tolist()\n",
    "x_verts, y_verts = [_[0] for _ in cell_verts], [_[1] for _ in cell_verts]\n",
    "\n",
    "plt.figure()\n",
    "plt.scatter(x_verts, y_verts)\n",
    "plt.axis('equal')"
   ]
  },
  {
   "cell_type": "code",
   "execution_count": 2,
   "id": "8635710e-852c-48d6-b310-0d16c07a7de3",
   "metadata": {},
   "outputs": [],
   "source": [
    "from SyMBac.cell_simulation import run_simulation, create_space, trench_creator, step_and_update2\n",
    "from SyMBac.cell import Cell, Cell2\n",
    "import numpy as np\n",
    "from pymunk.pyglet_util import DrawOptions\n",
    "import pymunk\n",
    "import pyglet\n",
    "gravity = 0 \n",
    "pix_mic_conv = 0.065\n",
    "trench_length = 20\n",
    "trench_width = 1.1\n",
    "cell_max_length = 4\n",
    "cell_width = 1\n",
    "max_length_var = 0\n",
    "width_var = 0\n",
    "lysis_p = 0\n",
    "show_window = True\n",
    "phys_iters = 10\n",
    "sim_length = 1000\n",
    "save_dir = \"/tmp/\"\n",
    "\n",
    "space = create_space()\n",
    "space.gravity = 0, gravity  # arbitrary units, negative is toward trench pole\n",
    "#space.iterations = 1000\n",
    "#space.damping = 0\n",
    "#space.collision_bias = 0.0017970074436457143*10\n",
    "space.collision_slop = 0.\n",
    "dt = 1 / 100  # time-step per frame\n",
    "scale_factor = 3 / pix_mic_conv # resolution scaling factor\n",
    "\n",
    "trench_length = trench_length * scale_factor\n",
    "trench_width = trench_width * scale_factor\n",
    "trench_pos = (35, 0)\n",
    "trench_creator(trench_width, trench_length, trench_pos, space)  # Coordinates of bottom left corner of the trench\n",
    "\n",
    "in_trench = False\n",
    "if in_trench:\n",
    "    cell1_pos = (trench_pos[0]+0.5*trench_width,trench_pos[1]+0.1*trench_length)\n",
    "else:\n",
    "    cell1_pos = (trench_pos[0]+trench_width*3, trench_pos[1]+0.5*trench_length)\n",
    "\n",
    "cell1 = Cell2(\n",
    "    length=cell_max_length/2 * scale_factor,\n",
    "    width=cell_width * scale_factor,\n",
    "    position=cell1_pos,\n",
    "    self_id = 0,\n",
    "    angle=np.pi/2,\n",
    "    max_length=cell_max_length * scale_factor,\n",
    "    mother_above_daughter=True,\n",
    ")\n",
    "\n",
    "if show_window:\n",
    "\n",
    "    window = pyglet.window.Window(700, 700, \"SyMBac\", resizable=True)\n",
    "    options = DrawOptions()\n",
    "    options.shape_outline_color = (10,20,30,40)\n",
    "    @window.event\n",
    "    def on_draw():\n",
    "        window.clear()\n",
    "        space.debug_draw(options)\n",
    "\n",
    "    # key press event\n",
    "    @window.event\n",
    "    def on_key_press(symbol, modifier):\n",
    "\n",
    "        # key \"E\" get press\n",
    "        if symbol == pyglet.window.key.E:\n",
    "            # close the window\n",
    "            window.close()\n",
    "\n",
    "space.add(cell1.body, cell1.shape)\n",
    "sim_progress = [0]\n",
    "cell_timeseries = []\n",
    "cells = [cell1]\n",
    "next_id = [cell1.self_id+1]\n",
    "if show_window:\n",
    "    pyglet.clock.schedule_interval(step_and_update2, interval=dt, cells=cells, space=space, phys_iters=phys_iters,\n",
    "                                   ylim=trench_length, cell_timeseries=cell_timeseries, sim_progress=sim_progress, sim_length=sim_length,\n",
    "                                   save_dir=save_dir, next_id=next_id)\n",
    "    pyglet.app.run()\n",
    "else:\n",
    "    for _ in tqdm(range(sim_length+2)):\n",
    "        step_and_update2(\n",
    "            dt=dt, cells=cells, space=space, phys_iters=phys_iters, ylim=trench_length,\n",
    "            cell_timeseries=cell_timeseries, x=x, sim_length=sim_length, save_dir=save_dir\n",
    "        )"
   ]
  }
 ],
 "metadata": {
  "kernelspec": {
   "display_name": "Python 3 (ipykernel)",
   "language": "python",
   "name": "python3"
  },
  "language_info": {
   "codemirror_mode": {
    "name": "ipython",
    "version": 3
   },
   "file_extension": ".py",
   "mimetype": "text/x-python",
   "name": "python",
   "nbconvert_exporter": "python",
   "pygments_lexer": "ipython3",
   "version": "3.8.10"
  }
 },
 "nbformat": 4,
 "nbformat_minor": 5
}
