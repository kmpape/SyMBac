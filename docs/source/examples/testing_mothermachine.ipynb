{
 "cells": [
  {
   "cell_type": "code",
   "execution_count": 1,
   "id": "74f19909-0eeb-4473-accf-c1ad6e5ea741",
   "metadata": {},
   "outputs": [],
   "source": [
    "%load_ext autoreload\n",
    "%autoreload 2"
   ]
  },
  {
   "cell_type": "markdown",
   "id": "48546f55",
   "metadata": {},
   "source": [
    "Test new physics simulation, cell classes, and mothermachine geometry."
   ]
  },
  {
   "cell_type": "code",
   "execution_count": 1,
   "id": "8635710e-852c-48d6-b310-0d16c07a7de3",
   "metadata": {},
   "outputs": [
    {
     "name": "stdout",
     "output_type": "stream",
     "text": [
      "Trench Width: 16.92, Trench Length: 184.62, Trench Spacing: 67.69, Number of Trenches: 4, Channel Width: 369.23, Segment Thickness: 1.00, Left Margin: 67.69, Right Margin: 67.69, Flow Direction: ChannelFlowDirection.RIGHT\n"
     ]
    }
   ],
   "source": [
    "from SyMBac.cell_simulation import run_simulation, create_space, trench_creator, step_and_update3\n",
    "from SyMBac.trench_geometry import trench_creator2\n",
    "from SyMBac.mothermachine_geometry import Mothermachine, MothermachinePart\n",
    "from SyMBac.cell import Cell, CellIDFactory, create_width_callable, create_lysis_callable\n",
    "import numpy as np\n",
    "from pymunk.pyglet_util import DrawOptions\n",
    "import pymunk\n",
    "import pyglet\n",
    "import time\n",
    "gravity = 0 \n",
    "pix_mic_conv = 0.065\n",
    "trench_length = 12\n",
    "trench_width = 1.1\n",
    "cell_max_length = 4\n",
    "cell_width = 1\n",
    "max_length_var = 0\n",
    "width_var = 0\n",
    "lysis_p = 0.0 # TODO This bugs. Cells are being thrown out of trenches.\n",
    "show_window = True\n",
    "phys_iters = 10\n",
    "sim_length = 100\n",
    "save_dir = \"/tmp/\"\n",
    "\n",
    "space = create_space()\n",
    "space.gravity = 0, gravity  # arbitrary units, negative is toward trench pole\n",
    "space.collision_slop = 0.\n",
    "dt = 1 / 100  # time-step per frame\n",
    "scale_factor = 1 / pix_mic_conv # resolution scaling factor\n",
    "\n",
    "trench_length = trench_length * scale_factor\n",
    "trench_width = trench_width * scale_factor\n",
    "channel_width = 2 * trench_length\n",
    "mothermachine = Mothermachine(\n",
    "    space=space,\n",
    "    trench_width=trench_width,\n",
    "    trench_length=trench_length,\n",
    "    trench_spacing=4*trench_width,\n",
    "    num_trenches=4,\n",
    "    channel_width=channel_width,\n",
    ")\n",
    "\n",
    "\n",
    "cell_id_factory = CellIDFactory()\n",
    "cells = []\n",
    "for i in mothermachine.get_trench_ids():\n",
    "    cell_length = cell_max_length * 0.9 * scale_factor\n",
    "    trench_position = mothermachine.get_trench_position(trench_id=i)\n",
    "    cell_position_x = trench_position[0] + trench_width * 0.5\n",
    "    if mothermachine.is_top_trench(trench_id=i):\n",
    "        cell_position_y = trench_position[1] + trench_length - cell_length * 0.5\n",
    "        mother_above_daughter = True\n",
    "    else:\n",
    "        cell_position_y = trench_position[1] + cell_length * 0.5\n",
    "        mother_above_daughter = False\n",
    "    cell_pos = (cell_position_x, cell_position_y)\n",
    "    cell = Cell(\n",
    "        length=cell_length,\n",
    "        width=cell_width * scale_factor,\n",
    "        position=cell_pos,\n",
    "        id_factory=cell_id_factory,\n",
    "        self_id = cell_id_factory.get_next_id(),\n",
    "        angle=np.pi/2,\n",
    "        max_length=cell_max_length * scale_factor,\n",
    "        get_width_daughter=create_width_callable(max_width=0.9*trench_width),\n",
    "        get_lysis_event=create_lysis_callable(lysis_probability=lysis_p),\n",
    "        mother_above_daughter=mother_above_daughter,\n",
    "    )\n",
    "    cells.append(cell)\n",
    "    cell.shape.color = (255, 0, 0, 255)\n",
    "    space.add(cell.body, cell.shape)\n",
    "\n",
    "\n",
    "if show_window:    \n",
    "    window = pyglet.window.Window(700, 700, \"SyMBac\", resizable=True)\n",
    "    options = DrawOptions()\n",
    "    options.shape_outline_color = (10,20,30,40)\n",
    "    bb_mothermachine = mothermachine.get_bounding_box(which=MothermachinePart.MOTHERMACHINE)\n",
    "    scale_x = window.width / (bb_mothermachine.right - bb_mothermachine.left)\n",
    "    scale_y = window.height / (bb_mothermachine.top - bb_mothermachine.bottom)\n",
    "    scale_factor = min(scale_x, scale_y)\n",
    "    window.view = window.view.scale((scale_factor, scale_factor, 1))\n",
    "\n",
    "    @window.event\n",
    "    def on_draw():\n",
    "        window.clear()\n",
    "        space.debug_draw(options)\n",
    "\n",
    "    # key press event\n",
    "    @window.event\n",
    "    def on_key_press(symbol, modifier):\n",
    "\n",
    "        # key \"E\" get press\n",
    "        if symbol == pyglet.window.key.E:\n",
    "            # close the window\n",
    "            window.close()\n",
    "\n",
    "sim_progress = [0]\n",
    "cell_timeseries = []\n",
    "if show_window:\n",
    "    pyglet.clock.schedule_interval_for_duration(\n",
    "        step_and_update3, \n",
    "        interval=dt, \n",
    "        duration=sim_length, \n",
    "        cells=cells, \n",
    "        space=space, \n",
    "        phys_iters=phys_iters,\n",
    "        cell_timeseries=cell_timeseries, \n",
    "        sim_progress=sim_progress, \n",
    "        sim_length=sim_length,\n",
    "        mothermachine=mothermachine\n",
    "    )\n",
    "    pyglet.app.run()\n",
    "\n",
    "_ = input()\n",
    "pyglet.app.exit()\n",
    "window.close()\n"
   ]
  },
  {
   "cell_type": "markdown",
   "id": "3e47372d",
   "metadata": {},
   "source": [
    "Test with configuration objects."
   ]
  },
  {
   "cell_type": "code",
   "execution_count": 1,
   "id": "b253a3d2",
   "metadata": {},
   "outputs": [
    {
     "name": "stderr",
     "output_type": "stream",
     "text": [
      "/home/lady5906/workspace_python/symbac/SyMBac/simulation.py:9: TqdmExperimentalWarning: Using `tqdm.autonotebook.tqdm` in notebook mode. Use `tqdm.tqdm` instead to force console mode (e.g. in jupyter console)\n",
      "  from tqdm.autonotebook import tqdm\n"
     ]
    }
   ],
   "source": [
    "import pyglet\n",
    "\n",
    "from SyMBac.simulation import Simulation2\n",
    "from SyMBac.config import TEST_CONFIG_CELL, TEST_CONFIG_MOTHERMACHINE, TEST_CONFIG_SIMULATION\n",
    "\n",
    "simulation = Simulation2(\n",
    "    config_simulation=TEST_CONFIG_SIMULATION,\n",
    "    config_cell=TEST_CONFIG_CELL,\n",
    "    config_mothermachine=TEST_CONFIG_MOTHERMACHINE,\n",
    ")\n",
    "\n",
    "simulation.run_simulation()\n",
    "# simulation.visualise_in_napari()"
   ]
  },
  {
   "cell_type": "code",
   "execution_count": 2,
   "id": "264db161",
   "metadata": {},
   "outputs": [],
   "source": [
    "\n",
    "simulation.close_simulation()\n",
    "simulation.draw_simulation_OPL(do_transformation=True)\n",
    "# import pickle\n",
    "# fnametmp = \"tmp_simulation.p\"\n",
    "# with open(fnametmp, \"wb\") as f:\n",
    "#     simulation.get_lysis_event = None\n",
    "#     pickle.dump(simulation, f, pickle.HIGHEST_PROTOCOL)"
   ]
  },
  {
   "cell_type": "code",
   "execution_count": 3,
   "id": "3299a58c",
   "metadata": {},
   "outputs": [],
   "source": [
    "from SyMBac.config import TEST_CONFIG_CAMERA, TEST_CONFIG_PSF, SYMBAC_DIR\n",
    "from SyMBac.PSF import PSF_generator\n",
    "from SyMBac.renderer import Renderer\n",
    "from SyMBac.PSF import Camera\n",
    "\n",
    "import skimage\n",
    "\n",
    "real_image = skimage.io.imread(SYMBAC_DIR / \"EvomachineData/example_image.tiff\")\n",
    "save_mask = str(SYMBAC_DIR /\"EvomachineData/testmask.p\")\n",
    "\n",
    "camera = Camera(\n",
    "    baseline=TEST_CONFIG_CAMERA.baseline,\n",
    "    sensitivity=TEST_CONFIG_CAMERA.sensitivity,\n",
    "    dark_noise=TEST_CONFIG_CAMERA.dark_noise,\n",
    ")\n",
    "\n",
    "kernel = PSF_generator(\n",
    "    mode=TEST_CONFIG_PSF.mode,\n",
    "    radius=TEST_CONFIG_PSF.radius,\n",
    "    wavelength=TEST_CONFIG_PSF.wavelength,\n",
    "    NA=TEST_CONFIG_PSF.num_ap,\n",
    "    n=TEST_CONFIG_PSF.ref_ind,\n",
    "    resize_amount=1,\n",
    "    pix_mic_conv=TEST_CONFIG_SIMULATION.pix_mic_conv,\n",
    "    apo_sigma=0.,\n",
    ")\n",
    "\n",
    "renderer = Renderer(\n",
    "    simulation=simulation, \n",
    "    PSF=kernel, \n",
    "    real_image=real_image[145:295,545:585], \n",
    "    camera=camera,\n",
    ")"
   ]
  },
  {
   "cell_type": "code",
   "execution_count": 4,
   "id": "390613fd",
   "metadata": {},
   "outputs": [
    {
     "name": "stdout",
     "output_type": "stream",
     "text": [
      "Loading mask from /home/lady5906/workspace_python/symbac/EvomachineData/testmask.p\n"
     ]
    }
   ],
   "source": [
    "renderer.select_intensity_napari(fname_param=save_mask, auto=False)"
   ]
  },
  {
   "cell_type": "code",
   "execution_count": 6,
   "id": "ecfb12fa",
   "metadata": {},
   "outputs": [
    {
     "name": "stdout",
     "output_type": "stream",
     "text": [
      "(886, 355)\n"
     ]
    },
    {
     "data": {
      "text/plain": [
       "<matplotlib.image.AxesImage at 0x7f387eadda00>"
      ]
     },
     "execution_count": 6,
     "metadata": {},
     "output_type": "execute_result"
    },
    {
     "data": {
      "image/png": "[encoded data removed]",
      "text/plain": [
       "<Figure size 640x480 with 1 Axes>"
      ]
     },
     "metadata": {},
     "output_type": "display_data"
    }
   ],
   "source": [
    "import numpy as np\n",
    "import matplotlib.pyplot as plt\n",
    "\n",
    "renderer.real_means = np.array((renderer.real_media_mean, renderer.real_cell_mean, renderer.real_device_mean))\n",
    "renderer.real_vars = np.array((renderer.real_media_var, renderer.real_cell_var, renderer.real_device_var))\n",
    "scene_no = -1\n",
    "\n",
    "expanded_scene, expanded_scene_no_cells, expanded_mask = renderer.generate_PC_OPL(\n",
    "    scene=renderer.simulation.OPL_scenes[scene_no],\n",
    "    mask=renderer.simulation.masks[scene_no],\n",
    "    media_multiplier=75,\n",
    "    cell_multiplier=1.7,\n",
    "    device_multiplier=29,\n",
    "    x_border_expansion_coefficient=renderer.x_border_expansion_coefficient,\n",
    "    y_border_expansion_coefficient=renderer.y_border_expansion_coefficient,\n",
    "    defocus=3\n",
    ")\n",
    "\n",
    "print(renderer.simulation.OPL_scenes[scene_no].shape)\n",
    "print(expanded_scene.shape)\n",
    "plt.imshow(expanded_scene)"
   ]
  },
  {
   "cell_type": "code",
   "execution_count": 5,
   "id": "f2f8161f",
   "metadata": {},
   "outputs": [
    {
     "data": {
      "application/vnd.jupyter.widget-view+json": {
       "model_id": "183485d870724a8f8ab146dfc8aac8f7",
       "version_major": 2,
       "version_minor": 0
      },
      "text/plain": [
       "interactive(children=(IntSlider(value=75, description='media_multiplier', max=300, min=-300), FloatSlider(valu…"
      ]
     },
     "metadata": {},
     "output_type": "display_data"
    }
   ],
   "source": [
    "\n",
    "renderer.optimise_synth_image(manual_update=True)"
   ]
  }
 ],
 "metadata": {
  "kernelspec": {
   "display_name": "Python 3 (ipykernel)",
   "language": "python",
   "name": "python3"
  },
  "language_info": {
   "codemirror_mode": {
    "name": "ipython",
    "version": 3
   },
   "file_extension": ".py",
   "mimetype": "text/x-python",
   "name": "python",
   "nbconvert_exporter": "python",
   "pygments_lexer": "ipython3",
   "version": "3.8.10"
  }
 },
 "nbformat": 4,
 "nbformat_minor": 5
}
