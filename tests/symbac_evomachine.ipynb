{
 "cells": [
  {
   "cell_type": "code",
   "execution_count": 4,
   "id": "bb3c7df8",
   "metadata": {
    "tags": []
   },
   "outputs": [],
   "source": [
    "import sys\n",
    "# sys.path.insert(1, '/home/idris/workspace_python/symbac/SyMBac/') # Not needed if you installed SyMBac using pip\n",
    "\n",
    "from cv2 import resize, INTER_CUBIC\n",
    "import numpy as np\n",
    "import matplotlib.pyplot as plt\n",
    "\n",
    "from SyMBac.simulation import Simulation\n",
    "from SyMBac.PSF import PSF_generator\n",
    "from SyMBac.renderer import Renderer\n",
    "from SyMBac.PSF import Camera\n",
    "from SyMBac.misc import get_sample_images\n",
    "\n",
    "\n",
    "# OPTIONS\n",
    "show_window = False\n",
    "# save_dir = \"/home/idris/workspace_python/symbac/testdata/\"\n",
    "save_dir = \"/home/hslab/workspace_python/symbac_pip/testdata/\"\n",
    "save_mask = save_dir + \"E.coli40x.p\"\n",
    "param_set = 1  # 0= SyMBac, 1= EvoMachine\n",
    "\n",
    "# TRENCH\n",
    "if param_set == 0:\n",
    "    trench_length = 15  # um\n",
    "    trench_width = 1.3  # um\n",
    "    cell_max_length = 6.65  # um\n",
    "    cell_width = 1  # um\n",
    "else:\n",
    "    trench_length = 15  # um\n",
    "    trench_width = 1.3  # um\n",
    "    cell_max_length = 6.65  # um\n",
    "    cell_width = 1  # um\n",
    "\n",
    "# CELLS\n",
    "max_length_var = 0.  # um, NOTE: all _var are in fact STDs\n",
    "width_var = 0.  # um\n",
    "lysis_p = 0.  # [0,1]\n",
    "\n",
    "# SIMULATION\n",
    "sim_length = 1000\n",
    "gravity = 0.1\n",
    "phys_iters = 15\n",
    "\n",
    "# PSF\n",
    "mode = \"simple fluo\"\n",
    "radius = 50  # Radius of the PSF                                        -> unclear\n",
    "wavelength = 0.65  # Wavelength of imaging light in micron              -> 450nm-650nm, MH12\n",
    "num_ap = 0.95  # Numerical aperture of the objective lens               -> 0.95 or 1.42, MH4\n",
    "ref_ind = 1.3  # Refractive index of the imaging medium                 -> unclear\n",
    "resize_amount = 3  # Upscaling factor, typically chosen to be 3         -> Upscaling before convolution\n",
    "if param_set == 0:\n",
    "    pix_mic_conv = 0.065\n",
    "else:\n",
    "    pix_mic_conv = 0.1625  # Micron per pixel conversion factor             -> 6.5/40, MH4\n",
    "\n",
    "# EXAMPLE IMAGE\n",
    "tmp = get_sample_images()[\"E. coli 100x\"]  # size must somehow match the output of the simulation\n",
    "if param_set == 1:\n",
    "    num_rows, num_cols = tmp.shape\n",
    "    div_factor = pix_mic_conv / 0.065\n",
    "    real_image = resize(tmp, dsize=(int(tmp.shape[1]/div_factor), int(tmp.shape[0]/div_factor)),\n",
    "                            interpolation=INTER_CUBIC)\n",
    "else:\n",
    "    real_image = tmp\n",
    "\n",
    "# CAMERA\n",
    "baseline = 100\n",
    "sensitivity = 2.9\n",
    "dark_noise = 8\n",
    "\n",
    "my_simulation = Simulation(\n",
    "    trench_length=trench_length, trench_width=trench_width,\n",
    "    cell_max_length=cell_max_length, cell_width=cell_width,\n",
    "    max_length_var=max_length_var, width_var=width_var, lysis_p=lysis_p,\n",
    "    pix_mic_conv=pix_mic_conv, resize_amount=resize_amount,\n",
    "    gravity=gravity, phys_iters=phys_iters, sim_length=sim_length, save_dir=save_dir\n",
    ")\n",
    "my_simulation.run_simulation(show_window=show_window)\n",
    "my_simulation.draw_simulation_OPL(do_transformation=True, label_masks=True)\n",
    "if show_window:\n",
    "    my_simulation.visualise_in_napari()\n",
    "\n",
    "my_camera = Camera(\n",
    "    baseline=baseline, sensitivity=sensitivity, dark_noise=dark_noise\n",
    ")\n",
    "if show_window:\n",
    "    my_camera.render_dark_image(size=(300, 300))\n",
    "\n",
    "my_kernel = PSF_generator(\n",
    "    mode=\"simple fluo\", radius=radius, wavelength=wavelength, NA=num_ap, n=ref_ind,\n",
    "    resize_amount=resize_amount, pix_mic_conv=pix_mic_conv, apo_sigma=0.\n",
    ")\n",
    "my_kernel.calculate_PSF()\n",
    "if show_window:\n",
    "    my_kernel.plot_PSF()\n",
    "    input(\"Press Enter to continue...\")\n",
    "\n",
    "my_renderer = Renderer(\n",
    "    simulation=my_simulation, PSF=my_kernel, real_image=real_image, camera=my_camera\n",
    ")"
   ]
  },
  {
   "cell_type": "code",
   "execution_count": 5,
   "id": "8399e066-656a-4645-b966-55f8c54f7c24",
   "metadata": {
    "tags": []
   },
   "outputs": [
    {
     "name": "stdout",
     "output_type": "stream",
     "text": [
      "Loading mask from /home/hslab/workspace_python/symbac_pip/testdata/E.coli40x.p\n"
     ]
    }
   ],
   "source": [
    "my_renderer.select_intensity_napari(fname_param=save_mask)"
   ]
  },
  {
   "cell_type": "code",
   "execution_count": 6,
   "id": "ac71afc0-1c56-455a-a938-b059898d8c0d",
   "metadata": {
    "tags": []
   },
   "outputs": [
    {
     "data": {
      "application/vnd.jupyter.widget-view+json": {
       "model_id": "265459585ad44a24958c3dce9de3b446",
       "version_major": 2,
       "version_minor": 0
      },
      "text/plain": [
       "interactive(children=(IntSlider(value=75, description='media_multiplier', max=300, min=-300), FloatSlider(valu…"
      ]
     },
     "metadata": {},
     "output_type": "display_data"
    }
   ],
   "source": [
    "my_renderer.optimise_synth_image(manual_update=False)"
   ]
  },
  {
   "cell_type": "code",
   "execution_count": 8,
   "id": "94f2f207-cd2d-4e91-b5e3-98fcc567647c",
   "metadata": {
    "tags": []
   },
   "outputs": [
    {
     "name": "stderr",
     "output_type": "stream",
     "text": [
      "Sample generation: 100%|█████████████████████████████████████████████████████████████████████████████████████████████████████████████████████████████████████████████████| 500/500 [00:08<00:00, 56.07it/s]\n"
     ]
    }
   ],
   "source": [
    "my_renderer.generate_training_data(sample_amount=0.1, randomise_hist_match=True, \n",
    "                                   randomise_noise_match=True, burn_in=40, n_samples = 6000, \n",
    "                                   save_dir=save_dir, in_series=False)"
   ]
  }
 ],
 "metadata": {
  "kernelspec": {
   "display_name": "symbac_venv",
   "language": "python",
   "name": "symbac_venv"
  },
  "language_info": {
   "codemirror_mode": {
    "name": "ipython",
    "version": 3
   },
   "file_extension": ".py",
   "mimetype": "text/x-python",
   "name": "python",
   "nbconvert_exporter": "python",
   "pygments_lexer": "ipython3",
   "version": "3.8.10"
  }
 },
 "nbformat": 4,
 "nbformat_minor": 5
}
