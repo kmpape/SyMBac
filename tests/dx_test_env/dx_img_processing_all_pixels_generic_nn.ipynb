{
 "cells": [
  {
   "cell_type": "code",
   "execution_count": 1,
   "metadata": {},
   "outputs": [],
   "source": [
    "import pickle\n",
    "import os\n",
    "\n",
    "FOLDER = os.getcwd() + \"/10_pts\"\n",
    "\n",
    "with open(FOLDER+'/ori.pkl', 'rb') as file:   \n",
    "    ori = pickle.load(file)\n",
    "with open(FOLDER+'/mask.pkl', 'rb') as file:   \n",
    "    mask = pickle.load(file)\n",
    "with open(FOLDER+'/out.pkl', 'rb') as file:   \n",
    "    out = pickle.load(file)\n",
    "with open(FOLDER+'/psf.pkl', 'rb') as file:   \n",
    "    original_psf = pickle.load(file)\n"
   ]
  },
  {
   "cell_type": "code",
   "execution_count": 2,
   "metadata": {},
   "outputs": [],
   "source": [
    "%matplotlib inline\n",
    "import matplotlib.pyplot as plt\n",
    "import matplotlib.image as mpimg\n",
    "plt.rcParams['figure.figsize'] = [15, 5]\n",
    "import math\n",
    "import numpy as np\n",
    "import random\n",
    "import time\n",
    "\n"
   ]
  },
  {
   "cell_type": "code",
   "execution_count": 3,
   "metadata": {},
   "outputs": [
    {
     "data": {
      "image/png": "[encoded data removed]",
      "text/plain": [
       "<Figure size 1500x500 with 3 Axes>"
      ]
     },
     "metadata": {},
     "output_type": "display_data"
    }
   ],
   "source": [
    "f, axarr = plt.subplots(1,3)\n",
    "axarr[0].imshow(ori)\n",
    "axarr[1].imshow(mask)\n",
    "axarr[2].imshow(out)\n",
    "plt.show()"
   ]
  },
  {
   "cell_type": "code",
   "execution_count": 4,
   "metadata": {},
   "outputs": [
    {
     "name": "stdout",
     "output_type": "stream",
     "text": [
      "40\n"
     ]
    },
    {
     "data": {
      "text/plain": [
       "\"\\nfor k in sourcePts:\\n    plt.scatter(k[1],k[0],c='r')\\nplt.imshow(mask)\\n\""
      ]
     },
     "execution_count": 4,
     "metadata": {},
     "output_type": "execute_result"
    }
   ],
   "source": [
    "#Final all non zero mask points\n",
    "\n",
    "sourcePts = []\n",
    "\n",
    "(maskWidth, maskHeight) = mask.shape\n",
    "\n",
    "for i in range(maskWidth):\n",
    "    for j in range(maskHeight):\n",
    "        if mask[i,j] != 0:\n",
    "            sourcePts.append([i,j])\n",
    "print(len(sourcePts))\n",
    "\n",
    "#Take only a random subset of the sourcePts\n",
    "\n",
    "random.shuffle(sourcePts)\n",
    "sourcePts = sourcePts[:]\n",
    "\n",
    "with open(FOLDER + '/sourcePts.pkl', 'wb') as file: \n",
    "    pickle.dump(sourcePts, file)\n",
    "\n",
    "\"\"\"\n",
    "for k in sourcePts:\n",
    "    plt.scatter(k[1],k[0],c='r')\n",
    "plt.imshow(mask)\n",
    "\"\"\"\n"
   ]
  },
  {
   "cell_type": "code",
   "execution_count": 5,
   "metadata": {},
   "outputs": [],
   "source": [
    "def AverageFilter(img, x, y):\n",
    "    sz = [ -2, -1, 0 , 1, 2]\n",
    "    total = 0\n",
    "    for i in sz:\n",
    "        for j in sz:\n",
    "            if x+i >= 0 and x+i < len(img) and y+j >= 0 and y+j < len(img[0]):\n",
    "                total += img[x+i][y+j]\n",
    "    total/=len(sz)*len(sz)\n",
    "    return total"
   ]
  },
  {
   "cell_type": "code",
   "execution_count": 6,
   "metadata": {},
   "outputs": [],
   "source": [
    "import torch\n",
    "import torch.nn as nn\n",
    "import torch.nn.functional as F\n",
    "import torch.optim as optim"
   ]
  },
  {
   "cell_type": "code",
   "execution_count": 7,
   "metadata": {},
   "outputs": [],
   "source": [
    "def euclideanDistance(x,y):\n",
    "    return ((x[0]-y[0])**2 + (x[1]-y[1])**2)**0.5\n",
    "\n",
    "(outputWidth, outputHeight) = out.shape\n",
    "N = len(sourcePts)\n",
    "distanceMatrix= []\n",
    "intensityMatrix = []\n",
    "maskSize = euclideanDistance(mask.shape,(0,0)) \n",
    "\n",
    "for idx in range(N):\n",
    "    current = sourcePts[idx]\n",
    "    distance = [euclideanDistance(sourcePts[k],current)/maskSize for k in range(N)] #Normalise by diagonal length of mask\n",
    "    intensty = [AverageFilter(out,current[0],current[1])/65535] #Normalise by max intensity\n",
    "    distanceMatrix.append(torch.tensor(distance))\n",
    "    intensityMatrix.append(torch.tensor(intensty))\n",
    "\n",
    "#Add a bunch of random points\n",
    "for i in range(outputWidth*outputHeight//2):\n",
    "    x = random.randint(0,maskWidth-1)\n",
    "    y = random.randint(0,maskHeight-1)\n",
    "    distance = [euclideanDistance(sourcePts[k],(x,y))/maskSize for k in range(N)] #Normalise by diagonal length of mask\n",
    "    intensty = [AverageFilter(out,x,y)/65535] #Normalise by max intensity\n",
    "    distanceMatrix.append(torch.tensor(distance))\n",
    "    intensityMatrix.append(torch.tensor(intensty))\n",
    "\n",
    "#Convert to tensor\n",
    "distanceMatrix = torch.stack(distanceMatrix)\n",
    "intensityMatrix = torch.stack(intensityMatrix)"
   ]
  },
  {
   "cell_type": "code",
   "execution_count": 8,
   "metadata": {},
   "outputs": [],
   "source": [
    "#Create custom dataset\n",
    "class CustomDataset(torch.utils.data.Dataset):\n",
    "    def __init__(self, distanceMatrix, intensityMatrix):\n",
    "        self.distanceMatrix = distanceMatrix\n",
    "        self.intensityMatrix = intensityMatrix\n",
    "    def __len__(self):\n",
    "        return len(self.intensityMatrix)\n",
    "\n",
    "    def __getitem__(self, idx):\n",
    "        return (self.distanceMatrix[idx], self.intensityMatrix[idx]) \n",
    "dataset = CustomDataset(distanceMatrix, intensityMatrix)\n",
    "dataloader = torch.utils.data.DataLoader(dataset, batch_size=1024, shuffle=True, num_workers=2)"
   ]
  },
  {
   "cell_type": "code",
   "execution_count": 9,
   "metadata": {},
   "outputs": [],
   "source": [
    "class Net(nn.Module):\n",
    "    def __init__(self,N,output_intensity=None):\n",
    "        super(Net, self).__init__()\n",
    "        self.psf_weights = nn.Sequential(\n",
    "            nn.Linear(1,128),\n",
    "            nn.ReLU(),\n",
    "            nn.Linear(128,128),\n",
    "            nn.ReLU(),\n",
    "            nn.Linear(128,1),\n",
    "            nn.Sigmoid()\n",
    "        )\n",
    "        self.actual_intensity = nn.Linear(N,1,bias=False)\n",
    "        if output_intensity is not None:\n",
    "            for i in range(N):\n",
    "                self.actual_intensity.weight.data[0][i] = output_intensity[i]\n",
    "    def getPSF(self,x):\n",
    "        x = x.unsqueeze(2) \n",
    "        x = self.psf_weights(x)\n",
    "        x = x.squeeze(2)\n",
    "        return x\n",
    "        \n",
    "    def forward(self, x):\n",
    "        x = self.getPSF(x)\n",
    "        x = self.actual_intensity(x)\n",
    "        return x\n"
   ]
  },
  {
   "cell_type": "code",
   "execution_count": 10,
   "metadata": {},
   "outputs": [],
   "source": [
    "model = Net(N,intensityMatrix.data.flatten())\n",
    "model.actual_intensity.weight.data.clamp_(0, 1) #Clamp parameters of last layer\n",
    "#model.polynomial_weights.bias.data.clamp_(1, 1) #Clamp parameters of const of polynomial\n",
    "model.zero_grad()\n",
    "\n",
    "#Define loss function and optimizer\n",
    "criterion = nn.MSELoss()\n",
    "#criterion = nn.HuberLoss(delta=0.1)\n",
    "optimizer = optim.SGD([\n",
    "                    {'params': model.psf_weights.parameters(), 'lr': 0.001},\n",
    "                    {'params': model.actual_intensity.parameters(), 'lr': 0.001}\n",
    "                ], lr=0.001, momentum=0.9)"
   ]
  },
  {
   "cell_type": "code",
   "execution_count": 11,
   "metadata": {},
   "outputs": [
    {
     "name": "stdout",
     "output_type": "stream",
     "text": [
      "Epoch:  1  Loss:  85.24088478088379\n"
     ]
    },
    {
     "name": "stdout",
     "output_type": "stream",
     "text": [
      "Epoch:  51  Loss:  0.04727465473115444\n",
      "Epoch:  101  Loss:  0.038650672882795334\n",
      "Epoch:  151  Loss:  0.04520765691995621\n",
      "Epoch:  201  Loss:  0.0430911909788847\n",
      "Epoch:  251  Loss:  0.044325247406959534\n",
      "Epoch:  301  Loss:  0.04057416319847107\n",
      "Epoch:  351  Loss:  0.03879988566040993\n",
      "Epoch:  401  Loss:  0.03914506547152996\n",
      "Epoch:  451  Loss:  0.03896533511579037\n",
      "Epoch:  501  Loss:  0.04223142936825752\n",
      "Epoch:  551  Loss:  0.04354555904865265\n",
      "Epoch:  601  Loss:  0.0401568878442049\n",
      "Epoch:  651  Loss:  0.03818761371076107\n",
      "Epoch:  701  Loss:  0.04395642131567001\n",
      "Epoch:  751  Loss:  0.037984803318977356\n",
      "Epoch:  801  Loss:  0.03764045890420675\n",
      "Epoch:  851  Loss:  0.045387644320726395\n",
      "Epoch:  901  Loss:  0.04114125855267048\n",
      "Epoch:  951  Loss:  0.03709906619042158\n",
      "Epoch:  1  Loss:  0.040836188942193985\n",
      "Epoch:  51  Loss:  0.04114166833460331\n",
      "Epoch:  101  Loss:  0.03949285112321377\n",
      "Epoch:  151  Loss:  0.03916110098361969\n",
      "Epoch:  201  Loss:  0.04431495629251003\n",
      "Finished Training\n"
     ]
    }
   ],
   "source": [
    "#Training loop\n",
    "\n",
    "EPOCH = 300\n",
    "timestr = time.strftime(\"%Y%m%d-%H%M%S\")\n",
    "PATH = FOLDER + \"/model-\"+timestr+\".pt\"\n",
    "\n",
    "for parameter in model.actual_intensity.parameters():\n",
    "    parameter.requires_grad = False\n",
    "\n",
    "for epoch in range(EPOCH):  # loop over the dataset multiple times\n",
    "    running_loss = 0.0\n",
    "    for i, data in enumerate(dataloader):\n",
    "        inputs, outputs = data\n",
    "        optimizer.zero_grad()\n",
    "        nn_outputs = model(inputs)\n",
    "        loss = criterion(nn_outputs.float(), outputs.float())\n",
    "        loss.backward()\n",
    "        optimizer.step()\n",
    "        model.actual_intensity.weight.data.clamp_(0, 1) #Clamp parameters of last layer\n",
    "        #model.polynomial_weights.bias.data.clamp_(1, 1) #Clamp parameters of const of polynomial\n",
    "        running_loss += loss.item()\n",
    "    if (epoch%50==0): print(\"Epoch: \",epoch+1, \" Loss: \",running_loss)\n",
    "    if (epoch%50==0):\n",
    "        \n",
    "\n",
    "for parameter in model.actual_intensity.parameters():\n",
    "    parameter.requires_grad = True\n",
    "\n",
    "for epoch in range(250):  # loop over the dataset multiple times\n",
    "    running_loss = 0.0\n",
    "    for i, data in enumerate(dataloader):\n",
    "        optimizer.zero_grad()\n",
    "        inputs, outputs = data\n",
    "        nn_outputs = model(inputs)\n",
    "        loss = criterion(nn_outputs.float(), outputs.float())\n",
    "        loss.backward()\n",
    "        optimizer.step()\n",
    "        model.actual_intensity.weight.data.clamp_(0, 1) #Clamp parameters of last layer\n",
    "        #model.polynomial_weights.bias.data.clamp_(1, 1) #Clamp parameters of const of polynomial\n",
    "        running_loss += loss.item()\n",
    "    if (epoch%50==0): print(\"Epoch: \",epoch+1, \" Loss: \",running_loss)\n",
    "    \n",
    "print('Finished Training')\n",
    "\n",
    "loss = criterion(nn_outputs.float(), outputs.float())\n",
    "\n",
    "torch.save({\n",
    "            'epoch': EPOCH,\n",
    "            'model_state_dict': model.state_dict(),\n",
    "            'optimizer_state_dict': optimizer.state_dict(),\n",
    "            'loss': loss,\n",
    "            'N': N,\n",
    "            }, PATH)"
   ]
  },
  {
   "cell_type": "code",
   "execution_count": 12,
   "metadata": {},
   "outputs": [
    {
     "name": "stderr",
     "output_type": "stream",
     "text": [
      "/tmp/ipykernel_7903/4186271850.py:12: UserWarning: Creating a tensor from a list of numpy.ndarrays is extremely slow. Please consider converting the list to a single numpy.ndarray with numpy.array() before converting to a tensor. (Triggered internally at ../torch/csrc/utils/tensor_new.cpp:245.)\n",
      "  new_psf_y = model.getPSF(torch.tensor(new_psf_x))\n"
     ]
    },
    {
     "data": {
      "image/png": "[encoded data removed]",
      "text/plain": [
       "<Figure size 1500x500 with 1 Axes>"
      ]
     },
     "metadata": {},
     "output_type": "display_data"
    }
   ],
   "source": [
    "#Normalise x axis of original psf to 1\n",
    "original_psf_x = np.linspace(0,1,len(original_psf))*len(original_psf)/maskSize\n",
    "original_psf_y = original_psf\n",
    "plt.plot(original_psf_x,original_psf_y)\n",
    "\n",
    "new_psf_x = [np.linspace(0,1,100,dtype=np.float32)]\n",
    "new_psf_y = model.getPSF(torch.tensor(new_psf_x))\n",
    "new_psf_x = new_psf_x[0]\n",
    "new_psf_y = new_psf_y.detach().numpy().flatten()\n",
    "plt.plot(new_psf_x,new_psf_y)\n",
    "plt.show()\n"
   ]
  },
  {
   "cell_type": "code",
   "execution_count": 13,
   "metadata": {},
   "outputs": [
    {
     "data": {
      "image/png": "[encoded data removed]",
      "text/plain": [
       "<Figure size 1500x500 with 3 Axes>"
      ]
     },
     "metadata": {},
     "output_type": "display_data"
    }
   ],
   "source": [
    "#Recreate original image based off of calculated intensity\n",
    "\n",
    "customOriginal = np.zeros((maskWidth,maskHeight))\n",
    "modelIntensity = model.actual_intensity.weight.data[0]\n",
    "for i in range(len(modelIntensity)):\n",
    "    customOriginal[sourcePts[i][0]][sourcePts[i][1]] = modelIntensity[i]\n",
    "\n",
    "oriNormalised = np.asanyarray(ori)\n",
    "oriNormalised = oriNormalised / max(oriNormalised.flatten())\n",
    "\n",
    "outNormalised = np.asanyarray(out)\n",
    "outNormalised = outNormalised / max(outNormalised.flatten())\n",
    "\n",
    "customOriginal = customOriginal / max(customOriginal.flatten())\n",
    "\n",
    "f, axarr = plt.subplots(1,3)\n",
    "axarr[0].imshow(oriNormalised)\n",
    "axarr[1].imshow(outNormalised)\n",
    "axarr[2].imshow(customOriginal)\n",
    "plt.show()\n"
   ]
  },
  {
   "cell_type": "code",
   "execution_count": 14,
   "metadata": {},
   "outputs": [
    {
     "data": {
      "text/plain": [
       "array([[1.        , 0.89416603],\n",
       "       [0.89416603, 1.        ]])"
      ]
     },
     "execution_count": 14,
     "metadata": {},
     "output_type": "execute_result"
    },
    {
     "data": {
      "image/png": "[encoded data removed]",
      "text/plain": [
       "<Figure size 1500x500 with 1 Axes>"
      ]
     },
     "metadata": {},
     "output_type": "display_data"
    }
   ],
   "source": [
    "original_intensity = []\n",
    "custom_intensity = []\n",
    "\n",
    "for i in range(len(modelIntensity)):\n",
    "    original_intensity.append(oriNormalised[sourcePts[i][0]][sourcePts[i][1]])\n",
    "    custom_intensity.append(customOriginal[sourcePts[i][0]][sourcePts[i][1]])\n",
    "\n",
    "plt.plot(original_intensity,custom_intensity,'ro')\n",
    "\n",
    "#Calculate correlation coefficient\n",
    "np.corrcoef(original_intensity,custom_intensity)"
   ]
  }
 ],
 "metadata": {
  "kernelspec": {
   "display_name": "symbac",
   "language": "python",
   "name": "python3"
  },
  "language_info": {
   "codemirror_mode": {
    "name": "ipython",
    "version": 3
   },
   "file_extension": ".py",
   "mimetype": "text/x-python",
   "name": "python",
   "nbconvert_exporter": "python",
   "pygments_lexer": "ipython3",
   "version": "3.8.10"
  },
  "orig_nbformat": 4
 },
 "nbformat": 4,
 "nbformat_minor": 2
}
