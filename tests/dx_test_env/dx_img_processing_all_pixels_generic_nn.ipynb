{
 "cells": [
  {
   "cell_type": "code",
   "execution_count": 67,
   "metadata": {},
   "outputs": [],
   "source": [
    "import pickle\n",
    "import os\n",
    "\n",
    "FOLDER = os.getcwd() + \"/1_pt\"\n",
    "\n",
    "with open(FOLDER+'/ori.pkl', 'rb') as file:   \n",
    "    ori = pickle.load(file)\n",
    "with open(FOLDER+'/mask.pkl', 'rb') as file:   \n",
    "    mask = pickle.load(file)\n",
    "with open(FOLDER+'/out.pkl', 'rb') as file:   \n",
    "    out = pickle.load(file)\n"
   ]
  },
  {
   "cell_type": "code",
   "execution_count": 68,
   "metadata": {},
   "outputs": [],
   "source": [
    "%matplotlib inline\n",
    "import matplotlib.pyplot as plt\n",
    "import matplotlib.image as mpimg\n",
    "plt.rcParams['figure.figsize'] = [15, 5]\n",
    "import math\n",
    "import numpy as np\n",
    "import random\n",
    "import time\n",
    "\n"
   ]
  },
  {
   "cell_type": "code",
   "execution_count": 69,
   "metadata": {},
   "outputs": [
    {
     "data": {
      "image/png": "[encoded data removed]",
      "text/plain": [
       "<Figure size 1500x500 with 3 Axes>"
      ]
     },
     "metadata": {},
     "output_type": "display_data"
    }
   ],
   "source": [
    "f, axarr = plt.subplots(1,3)\n",
    "axarr[0].imshow(ori)\n",
    "axarr[1].imshow(mask)\n",
    "axarr[2].imshow(out)\n",
    "plt.show()"
   ]
  },
  {
   "cell_type": "code",
   "execution_count": 70,
   "metadata": {},
   "outputs": [
    {
     "name": "stdout",
     "output_type": "stream",
     "text": [
      "4\n"
     ]
    },
    {
     "data": {
      "text/plain": [
       "\"\\nfor k in sourcePts:\\n    plt.scatter(k[1],k[0],c='r')\\nplt.imshow(mask)\\n\""
      ]
     },
     "execution_count": 70,
     "metadata": {},
     "output_type": "execute_result"
    }
   ],
   "source": [
    "#Final all non zero mask points\n",
    "\n",
    "sourcePts = []\n",
    "\n",
    "(maskWidth, maskHeight) = mask.shape\n",
    "\n",
    "for i in range(maskWidth):\n",
    "    for j in range(maskHeight):\n",
    "        if mask[i,j] != 0:\n",
    "            sourcePts.append([i,j])\n",
    "print(len(sourcePts))\n",
    "\n",
    "#Take only a random subset of the sourcePts\n",
    "\n",
    "random.shuffle(sourcePts)\n",
    "sourcePts = sourcePts[:]\n",
    "\n",
    "with open(FOLDER + '/sourcePts.pkl', 'wb') as file: \n",
    "    pickle.dump(sourcePts, file)\n",
    "\n",
    "\"\"\"\n",
    "for k in sourcePts:\n",
    "    plt.scatter(k[1],k[0],c='r')\n",
    "plt.imshow(mask)\n",
    "\"\"\"\n"
   ]
  },
  {
   "cell_type": "code",
   "execution_count": 71,
   "metadata": {},
   "outputs": [],
   "source": [
    "def AverageFilter(img, x, y):\n",
    "    sz = [ -2, -1, 0 , 1, 2]\n",
    "    total = 0\n",
    "    for i in sz:\n",
    "        for j in sz:\n",
    "            if x+i < 0 or x+i >= len(img) or y+j < 0 or y+j >= len(img[0]):\n",
    "                total += img[x+i][y+j]\n",
    "    total/=len(sz)*len(sz)\n",
    "    return total\n",
    "\n",
    "outputIntensity = {}\n",
    "(outputWidth, outputHeight) = out.shape\n",
    "\n",
    "for pt in sourcePts:\n",
    "    x = pt[0]\n",
    "    y = pt[1]\n",
    "    outputIntensity[(x,y)] = AverageFilter(out,x,y)"
   ]
  },
  {
   "cell_type": "code",
   "execution_count": 72,
   "metadata": {},
   "outputs": [],
   "source": [
    "import torch\n",
    "import torch.nn as nn\n",
    "import torch.nn.functional as F\n",
    "import torch.optim as optim"
   ]
  },
  {
   "cell_type": "code",
   "execution_count": 73,
   "metadata": {},
   "outputs": [],
   "source": [
    "def euclideanDistance(x,y):\n",
    "    return ((x[0]-y[0])**2 + (x[1]-y[1])**2)**0.5\n",
    "\n",
    "N = len(sourcePts)\n",
    "distanceMatrix= []\n",
    "intensityMatrix = []\n",
    "maskSize = euclideanDistance(mask.shape,(0,0)) \n",
    "\n",
    "for idx in range(N):\n",
    "    current = sourcePts[idx]\n",
    "    distance = [euclideanDistance(sourcePts[k],current)/maskSize for k in range(N)] #Normalise by diagonal length of mask\n",
    "    intensty = [AverageFilter(out,current[0],current[1])/65535] #Normalise by max intensity\n",
    "    distanceMatrix.append(torch.tensor(distance))\n",
    "    intensityMatrix.append(torch.tensor(intensty))\n",
    "\n",
    "#Add a bunch of random points\n",
    "for i in range(outputWidth*outputHeight//2):\n",
    "    x = random.randint(0,maskWidth-1)\n",
    "    y = random.randint(0,maskHeight-1)\n",
    "    if mask[x,y] == 0:\n",
    "        continue\n",
    "    distance = [euclideanDistance(sourcePts[k],(x,y))/maskSize for k in range(N)] #Normalise by diagonal length of mask\n",
    "    intensty = [AverageFilter(out,x,y)/65535] #Normalise by max intensity\n",
    "    distanceMatrix.append(torch.tensor(distance))\n",
    "    intensityMatrix.append(torch.tensor(intensty))\n",
    "\n",
    "#Convert to tensor\n",
    "distanceMatrix = torch.stack(distanceMatrix)\n",
    "intensityMatrix = torch.stack(intensityMatrix)"
   ]
  },
  {
   "cell_type": "code",
   "execution_count": 74,
   "metadata": {},
   "outputs": [],
   "source": [
    "#Create custom dataset\n",
    "class CustomDataset(torch.utils.data.Dataset):\n",
    "    def __init__(self, distanceMatrix, intensityMatrix):\n",
    "        self.distanceMatrix = distanceMatrix\n",
    "        self.intensityMatrix = intensityMatrix\n",
    "    def __len__(self):\n",
    "        return len(self.intensityMatrix)\n",
    "\n",
    "    def __getitem__(self, idx):\n",
    "        return (self.distanceMatrix[idx], self.intensityMatrix[idx]) \n",
    "dataset = CustomDataset(distanceMatrix, intensityMatrix)\n",
    "dataloader = torch.utils.data.DataLoader(dataset, batch_size=1024, shuffle=True, num_workers=2)"
   ]
  },
  {
   "cell_type": "code",
   "execution_count": 75,
   "metadata": {},
   "outputs": [],
   "source": [
    "class Net(nn.Module):\n",
    "    def __init__(self,N,output_intensity=None):\n",
    "        super(Net, self).__init__()\n",
    "        self.weigths1 = nn.Linear(1,128)\n",
    "        self.weigths2 = nn.Linear(128,128)\n",
    "        self.weights3 = nn.Linear(128,1)\n",
    "        self.actual_intensity = nn.Linear(N,1,bias=False)\n",
    "        if output_intensity is not None:\n",
    "            for i in range(N):\n",
    "                self.actual_intensity.weight.data[0][i] = output_intensity[i]\n",
    "    def getPSF(self,x):\n",
    "        print(x)\n",
    "        x = F.relu(self.weigths1(x))\n",
    "        x = F.relu(self.weigths2(x))\n",
    "        x = self.weights3(x)\n",
    "        print(x)\n",
    "        return x\n",
    "        \n",
    "    def forward(self, x):\n",
    "        x = self.getPSF(x)\n",
    "        x = self.actual_intensity(x)\n",
    "        return x\n"
   ]
  },
  {
   "cell_type": "code",
   "execution_count": 76,
   "metadata": {},
   "outputs": [],
   "source": [
    "model = Net(N,intensityMatrix.data.flatten())\n",
    "model.actual_intensity.weight.data.clamp_(0, 1) #Clamp parameters of last layer\n",
    "#model.polynomial_weights.bias.data.clamp_(1, 1) #Clamp parameters of const of polynomial\n",
    "\n",
    "#Define loss function and optimizer\n",
    "#criterion = nn.MSELoss()\n",
    "criterion = nn.HuberLoss(delta=0.1)\n",
    "optimizer = optim.SGD([\n",
    "                    {'params': model.actual_intensity.parameters(), 'lr': 0.001}\n",
    "                ], lr=0.001, momentum=0.9)\n",
    "for parameter in model.weigths1.parameters():\n",
    "    parameter.requires_grad = False\n",
    "for parameter in model.weigths2.parameters():\n",
    "    parameter.requires_grad = False\n",
    "for parameter in model.weights3.parameters():\n",
    "    parameter.requires_grad = False"
   ]
  },
  {
   "cell_type": "code",
   "execution_count": 77,
   "metadata": {},
   "outputs": [
    {
     "name": "stdout",
     "output_type": "stream",
     "text": [
      "tensor([[0.0000, 0.0333, 0.0236, 0.0236],\n",
      "        [0.0333, 0.0000, 0.0236, 0.0236],\n",
      "        [0.0000, 0.0333, 0.0236, 0.0236],\n",
      "        [0.0236, 0.0236, 0.0333, 0.0000],\n",
      "        [0.0333, 0.0000, 0.0236, 0.0236],\n",
      "        [0.0236, 0.0236, 0.0333, 0.0000],\n",
      "        [0.0236, 0.0236, 0.0000, 0.0333]])\n"
     ]
    },
    {
     "ename": "RuntimeError",
     "evalue": "mat1 and mat2 shapes cannot be multiplied (7x4 and 1x128)",
     "output_type": "error",
     "traceback": [
      "\u001b[0;31m---------------------------------------------------------------------------\u001b[0m",
      "\u001b[0;31mRuntimeError\u001b[0m                              Traceback (most recent call last)",
      "Cell \u001b[0;32mIn[77], line 15\u001b[0m\n\u001b[1;32m     13\u001b[0m inputs, outputs \u001b[39m=\u001b[39m data\n\u001b[1;32m     14\u001b[0m \u001b[39m# forward + backward + optimize\u001b[39;00m\n\u001b[0;32m---> 15\u001b[0m nn_outputs \u001b[39m=\u001b[39m model(inputs)\n\u001b[1;32m     16\u001b[0m loss \u001b[39m=\u001b[39m criterion(nn_outputs\u001b[39m.\u001b[39mfloat(), outputs\u001b[39m.\u001b[39mfloat())\n\u001b[1;32m     17\u001b[0m loss\u001b[39m.\u001b[39mbackward()\n",
      "File \u001b[0;32m~/symbac/symbac/lib/python3.8/site-packages/torch/nn/modules/module.py:1501\u001b[0m, in \u001b[0;36mModule._call_impl\u001b[0;34m(self, *args, **kwargs)\u001b[0m\n\u001b[1;32m   1496\u001b[0m \u001b[39m# If we don't have any hooks, we want to skip the rest of the logic in\u001b[39;00m\n\u001b[1;32m   1497\u001b[0m \u001b[39m# this function, and just call forward.\u001b[39;00m\n\u001b[1;32m   1498\u001b[0m \u001b[39mif\u001b[39;00m \u001b[39mnot\u001b[39;00m (\u001b[39mself\u001b[39m\u001b[39m.\u001b[39m_backward_hooks \u001b[39mor\u001b[39;00m \u001b[39mself\u001b[39m\u001b[39m.\u001b[39m_backward_pre_hooks \u001b[39mor\u001b[39;00m \u001b[39mself\u001b[39m\u001b[39m.\u001b[39m_forward_hooks \u001b[39mor\u001b[39;00m \u001b[39mself\u001b[39m\u001b[39m.\u001b[39m_forward_pre_hooks\n\u001b[1;32m   1499\u001b[0m         \u001b[39mor\u001b[39;00m _global_backward_pre_hooks \u001b[39mor\u001b[39;00m _global_backward_hooks\n\u001b[1;32m   1500\u001b[0m         \u001b[39mor\u001b[39;00m _global_forward_hooks \u001b[39mor\u001b[39;00m _global_forward_pre_hooks):\n\u001b[0;32m-> 1501\u001b[0m     \u001b[39mreturn\u001b[39;00m forward_call(\u001b[39m*\u001b[39;49margs, \u001b[39m*\u001b[39;49m\u001b[39m*\u001b[39;49mkwargs)\n\u001b[1;32m   1502\u001b[0m \u001b[39m# Do not call functions when jit is used\u001b[39;00m\n\u001b[1;32m   1503\u001b[0m full_backward_hooks, non_full_backward_hooks \u001b[39m=\u001b[39m [], []\n",
      "Cell \u001b[0;32mIn[75], line 20\u001b[0m, in \u001b[0;36mNet.forward\u001b[0;34m(self, x)\u001b[0m\n\u001b[1;32m     18\u001b[0m \u001b[39mdef\u001b[39;00m \u001b[39mforward\u001b[39m(\u001b[39mself\u001b[39m, x):\n\u001b[1;32m     19\u001b[0m     \u001b[39mprint\u001b[39m(x)\n\u001b[0;32m---> 20\u001b[0m     x \u001b[39m=\u001b[39m \u001b[39mself\u001b[39;49m\u001b[39m.\u001b[39;49mgetPSF(x)\n\u001b[1;32m     21\u001b[0m     x \u001b[39m=\u001b[39m \u001b[39mself\u001b[39m\u001b[39m.\u001b[39mactual_intensity(x)\n\u001b[1;32m     22\u001b[0m     \u001b[39mreturn\u001b[39;00m x\n",
      "Cell \u001b[0;32mIn[75], line 12\u001b[0m, in \u001b[0;36mNet.getPSF\u001b[0;34m(self, x)\u001b[0m\n\u001b[1;32m     11\u001b[0m \u001b[39mdef\u001b[39;00m \u001b[39mgetPSF\u001b[39m(\u001b[39mself\u001b[39m,x):\n\u001b[0;32m---> 12\u001b[0m     x \u001b[39m=\u001b[39m F\u001b[39m.\u001b[39mrelu(\u001b[39mself\u001b[39;49m\u001b[39m.\u001b[39;49mweigths1(x))\n\u001b[1;32m     13\u001b[0m     x \u001b[39m=\u001b[39m F\u001b[39m.\u001b[39mrelu(\u001b[39mself\u001b[39m\u001b[39m.\u001b[39mweigths2(x))\n\u001b[1;32m     14\u001b[0m     x \u001b[39m=\u001b[39m \u001b[39mself\u001b[39m\u001b[39m.\u001b[39mweights3(x)\n",
      "File \u001b[0;32m~/symbac/symbac/lib/python3.8/site-packages/torch/nn/modules/module.py:1501\u001b[0m, in \u001b[0;36mModule._call_impl\u001b[0;34m(self, *args, **kwargs)\u001b[0m\n\u001b[1;32m   1496\u001b[0m \u001b[39m# If we don't have any hooks, we want to skip the rest of the logic in\u001b[39;00m\n\u001b[1;32m   1497\u001b[0m \u001b[39m# this function, and just call forward.\u001b[39;00m\n\u001b[1;32m   1498\u001b[0m \u001b[39mif\u001b[39;00m \u001b[39mnot\u001b[39;00m (\u001b[39mself\u001b[39m\u001b[39m.\u001b[39m_backward_hooks \u001b[39mor\u001b[39;00m \u001b[39mself\u001b[39m\u001b[39m.\u001b[39m_backward_pre_hooks \u001b[39mor\u001b[39;00m \u001b[39mself\u001b[39m\u001b[39m.\u001b[39m_forward_hooks \u001b[39mor\u001b[39;00m \u001b[39mself\u001b[39m\u001b[39m.\u001b[39m_forward_pre_hooks\n\u001b[1;32m   1499\u001b[0m         \u001b[39mor\u001b[39;00m _global_backward_pre_hooks \u001b[39mor\u001b[39;00m _global_backward_hooks\n\u001b[1;32m   1500\u001b[0m         \u001b[39mor\u001b[39;00m _global_forward_hooks \u001b[39mor\u001b[39;00m _global_forward_pre_hooks):\n\u001b[0;32m-> 1501\u001b[0m     \u001b[39mreturn\u001b[39;00m forward_call(\u001b[39m*\u001b[39;49margs, \u001b[39m*\u001b[39;49m\u001b[39m*\u001b[39;49mkwargs)\n\u001b[1;32m   1502\u001b[0m \u001b[39m# Do not call functions when jit is used\u001b[39;00m\n\u001b[1;32m   1503\u001b[0m full_backward_hooks, non_full_backward_hooks \u001b[39m=\u001b[39m [], []\n",
      "File \u001b[0;32m~/symbac/symbac/lib/python3.8/site-packages/torch/nn/modules/linear.py:114\u001b[0m, in \u001b[0;36mLinear.forward\u001b[0;34m(self, input)\u001b[0m\n\u001b[1;32m    113\u001b[0m \u001b[39mdef\u001b[39;00m \u001b[39mforward\u001b[39m(\u001b[39mself\u001b[39m, \u001b[39minput\u001b[39m: Tensor) \u001b[39m-\u001b[39m\u001b[39m>\u001b[39m Tensor:\n\u001b[0;32m--> 114\u001b[0m     \u001b[39mreturn\u001b[39;00m F\u001b[39m.\u001b[39;49mlinear(\u001b[39minput\u001b[39;49m, \u001b[39mself\u001b[39;49m\u001b[39m.\u001b[39;49mweight, \u001b[39mself\u001b[39;49m\u001b[39m.\u001b[39;49mbias)\n",
      "\u001b[0;31mRuntimeError\u001b[0m: mat1 and mat2 shapes cannot be multiplied (7x4 and 1x128)"
     ]
    }
   ],
   "source": [
    "#Training loop\n",
    "\n",
    "EPOCH = 200\n",
    "timestr = time.strftime(\"%Y%m%d-%H%M%S\")\n",
    "PATH = FOLDER + \"/model-\"+timestr+\".pt\"\n",
    "\n",
    "\n",
    "for epoch in range(EPOCH):  # loop over the dataset multiple times\n",
    "    running_loss = 0.0\n",
    "    for i, data in enumerate(dataloader, 0):\n",
    "        model.zero_grad()\n",
    "        # get the inputs; data is a list of [inputs, labels]\n",
    "        inputs, outputs = data\n",
    "        # forward + backward + optimize\n",
    "        nn_outputs = model(inputs)\n",
    "        loss = criterion(nn_outputs.float(), outputs.float())\n",
    "        loss.backward()\n",
    "        optimizer.step()\n",
    "        model.actual_intensity.weight.data.clamp_(0, 1) #Clamp parameters of last layer\n",
    "        #model.polynomial_weights.bias.data.clamp_(1, 1) #Clamp parameters of const of polynomial\n",
    "        # print statistics\n",
    "        running_loss += loss.item()\n",
    "    print(\"Epoch: \",epoch+1, \" Loss: \",running_loss)\n",
    "\n",
    "for parameter in model.weigths1.parameters():\n",
    "    parameter.requires_grad = True\n",
    "for parameter in model.weigths2.parameters():\n",
    "    parameter.requires_grad = True\n",
    "for parameter in model.weights3.parameters():\n",
    "    parameter.requires_grad = True\n",
    "\n",
    "for epoch in range(EPOCH):  # loop over the dataset multiple times\n",
    "    running_loss = 0.0\n",
    "    for i, data in enumerate(dataloader, 0):\n",
    "        model.zero_grad()\n",
    "        # get the inputs; data is a list of [inputs, labels]\n",
    "        inputs, outputs = data\n",
    "        # forward + backward + optimize\n",
    "        nn_outputs = model(inputs)\n",
    "        loss = criterion(nn_outputs.float(), outputs.float())\n",
    "        loss.backward()\n",
    "        optimizer.step()\n",
    "        model.actual_intensity.weight.data.clamp_(0, 1) #Clamp parameters of last layer\n",
    "        #model.polynomial_weights.bias.data.clamp_(1, 1) #Clamp parameters of const of polynomial\n",
    "        # print statistics\n",
    "        running_loss += loss.item()\n",
    "    print(\"Epoch: \",epoch+1, \" Loss: \",running_loss)\n",
    "    \n",
    "print('Finished Training')\n",
    "\n",
    "loss = criterion(nn_outputs.float(), outputs.float())\n",
    "\n",
    "torch.save({\n",
    "            'epoch': EPOCH,\n",
    "            'model_state_dict': model.state_dict(),\n",
    "            'optimizer_state_dict': optimizer.state_dict(),\n",
    "            'loss': loss,\n",
    "            'N': N,\n",
    "            }, PATH)\n"
   ]
  },
  {
   "cell_type": "code",
   "execution_count": null,
   "metadata": {},
   "outputs": [
    {
     "data": {
      "image/png": "[encoded data removed]",
      "text/plain": [
       "<Figure size 1500x500 with 1 Axes>"
      ]
     },
     "metadata": {},
     "output_type": "display_data"
    }
   ],
   "source": [
    "#Checks our model's psf against original psf\n",
    "\n",
    "with open(FOLDER+'/psf.pkl', 'rb') as file:   \n",
    "    original_psf = pickle.load(file)\n",
    "\n",
    "#Normalise x axis of original psf to 1\n",
    "original_psf_x = np.linspace(0,1,len(original_psf))*len(original_psf)/maskSize\n",
    "original_psf_y = original_psf\n",
    "plt.plot(original_psf_x,original_psf_y)\n",
    "\n",
    "new_psf_x = [np.linspace(0,1,100,dtype=np.float32)]\n",
    "new_psf_y = model.getPSF(torch.tensor(new_psf_x))\n",
    "new_psf_x = new_psf_x[0]\n",
    "new_psf_y = new_psf_y.detach().numpy().flatten()\n",
    "plt.plot(new_psf_x,new_psf_y)\n",
    "plt.show()\n"
   ]
  },
  {
   "cell_type": "code",
   "execution_count": null,
   "metadata": {},
   "outputs": [
    {
     "name": "stdout",
     "output_type": "stream",
     "text": [
      "tensor([[-3.0000e+02,  1.9540e-01, -2.4376e-01,  3.7956e-01]])\n",
      "tensor([[0.7340, 0.2172, 0.7339, 0.0779, 0.3271, 0.3662, 0.4522, 0.3575, 0.3402,\n",
      "         0.2204, 0.3584, 0.2701, 0.0793, 0.4841, 0.2516, 0.2178, 0.5115, 0.7342,\n",
      "         0.0746, 0.5115, 0.5856, 0.3581, 0.2200, 0.5850, 0.6566, 0.4856, 0.2259,\n",
      "         0.0739, 0.6564, 0.3080, 0.5858, 0.5862, 0.4510, 0.5106, 0.6579, 0.5104,\n",
      "         0.3579, 0.7340, 0.3470, 0.6581]])\n"
     ]
    }
   ],
   "source": [
    "print(model.polynomial_weights.weight.data)\n",
    "print(model.actual_intensity.weight.data)"
   ]
  },
  {
   "cell_type": "code",
   "execution_count": null,
   "metadata": {},
   "outputs": [
    {
     "data": {
      "image/png": "[encoded data removed]",
      "text/plain": [
       "<Figure size 1500x500 with 3 Axes>"
      ]
     },
     "metadata": {},
     "output_type": "display_data"
    }
   ],
   "source": [
    "#Recreate original image based off of calculated intensity\n",
    "\n",
    "customOriginal = np.zeros((maskWidth,maskHeight))\n",
    "modelIntensity = model.actual_intensity.weight.data[0]\n",
    "for i in range(len(modelIntensity)):\n",
    "    customOriginal[sourcePts[i][0]][sourcePts[i][1]] = modelIntensity[i]\n",
    "\n",
    "oriNormalised = np.asanyarray(ori)\n",
    "oriNormalised = oriNormalised / max(oriNormalised.flatten())\n",
    "\n",
    "outNormalised = np.asanyarray(out)\n",
    "outNormalised = outNormalised / max(outNormalised.flatten())\n",
    "\n",
    "customOriginal = customOriginal / max(customOriginal.flatten())\n",
    "\n",
    "f, axarr = plt.subplots(1,3)\n",
    "axarr[0].imshow(oriNormalised)\n",
    "axarr[1].imshow(outNormalised)\n",
    "axarr[2].imshow(customOriginal)\n",
    "plt.show()\n"
   ]
  },
  {
   "cell_type": "code",
   "execution_count": null,
   "metadata": {},
   "outputs": [
    {
     "data": {
      "text/plain": [
       "array([[1.        , 0.98393017],\n",
       "       [0.98393017, 1.        ]])"
      ]
     },
     "execution_count": 397,
     "metadata": {},
     "output_type": "execute_result"
    },
    {
     "data": {
      "image/png": "[encoded data removed]",
      "text/plain": [
       "<Figure size 1500x500 with 1 Axes>"
      ]
     },
     "metadata": {},
     "output_type": "display_data"
    }
   ],
   "source": [
    "original_intensity = []\n",
    "custom_intensity = []\n",
    "\n",
    "for i in range(len(modelIntensity)):\n",
    "    original_intensity.append(oriNormalised[sourcePts[i][0]][sourcePts[i][1]])\n",
    "    custom_intensity.append(customOriginal[sourcePts[i][0]][sourcePts[i][1]])\n",
    "\n",
    "plt.plot(original_intensity,custom_intensity,'ro')\n",
    "\n",
    "#Calculate correlation coefficient\n",
    "np.corrcoef(original_intensity,custom_intensity)"
   ]
  }
 ],
 "metadata": {
  "kernelspec": {
   "display_name": "symbac",
   "language": "python",
   "name": "python3"
  },
  "language_info": {
   "codemirror_mode": {
    "name": "ipython",
    "version": 3
   },
   "file_extension": ".py",
   "mimetype": "text/x-python",
   "name": "python",
   "nbconvert_exporter": "python",
   "pygments_lexer": "ipython3",
   "version": "3.8.10"
  },
  "orig_nbformat": 4
 },
 "nbformat": 4,
 "nbformat_minor": 2
}
