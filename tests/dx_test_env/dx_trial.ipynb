{
 "cells": [
  {
   "cell_type": "code",
   "execution_count": 1,
   "metadata": {},
   "outputs": [
    {
     "name": "stderr",
     "output_type": "stream",
     "text": [
      "/home/boomalope/anaconda3/envs/symbac/SyMBac/tests/dx_test_env/../../SyMBac/colony_simulation.py:8: TqdmExperimentalWarning: Using `tqdm.autonotebook.tqdm` in notebook mode. Use `tqdm.tqdm` instead to force console mode (e.g. in jupyter console)\n",
      "  from tqdm.autonotebook import tqdm\n"
     ]
    }
   ],
   "source": [
    "import numpy as np\n",
    "import os\n",
    "import pickle\n",
    "from IPython.display import clear_output\n",
    "%matplotlib inline\n",
    "import matplotlib.pyplot as plt\n",
    "import matplotlib.image as mpimg\n",
    "plt.rcParams['figure.figsize'] = [15, 5]\n",
    "import sys\n",
    "sys.path.insert(1, os.getcwd()+\"/../..\") # Not needed if you installed SyMBac using pip\n",
    "from SyMBac.colony_simulation import ColonySimulation\n",
    "from SyMBac.colony_renderer import ColonyRenderer\n",
    "from SyMBac.PSF import PSF_generator\n",
    "import numpy as np\n",
    "from scipy import fftpack\n",
    "from scipy.ndimage import gaussian_filter\n",
    "from utils import GetSourcePts, GetMidPts, InverseMatrix, ApproxPSFBesselOptimise, GetAvgIntensityWithMask\n",
    "import cv2\n",
    "import pandas as pd\n",
    "\n",
    "#Remove directory data if it exists\n",
    "if os.path.exists(\"data\"):\n",
    "    os.system(\"rm -rf data\")"
   ]
  },
  {
   "cell_type": "code",
   "execution_count": null,
   "metadata": {},
   "outputs": [],
   "source": [
    "TRIALS = 100\n",
    "PATH = os.getcwd() \n",
    "SAVED_FOLDER = \"/no_offset\"\n",
    "ASSUMED_NOISE_LEVEL = 1e7"
   ]
  },
  {
   "cell_type": "code",
   "execution_count": null,
   "metadata": {},
   "outputs": [],
   "source": [
    "#Try to open data.csv\n",
    "\n",
    "try:\n",
    "    df = pd.read_csv(PATH+SAVED_FOLDER+\"/data.csv\")\n",
    "except:\n",
    "    column_headers = [\"Convolution: Simple Averaging\", \"Convolution: All Pixels\", \"Convolution: Mid Pts\", \"kernel.radius\", \"kernel.wavelength\", \"kernel.NA\", \"kernel.n\", \"kernel.resize_amount\", \"kernel.pix_mic_conv\", \"kernel.apo_sigma\", \"kernel.mode\", \"kernel.condenser\", \"kernel.offset\", \"colony.cellmodeller_model\", \"colony.max_cells\", \"colony.pix_mic_conv\", \"colony.resize_amount\"]\n",
    "    df = pd.DataFrame([], columns=column_headers)\n"
   ]
  },
  {
   "cell_type": "code",
   "execution_count": null,
   "metadata": {},
   "outputs": [],
   "source": [
    "print(df[\"Convolution: Simple Averaging\"].mean())\n",
    "print(df[\"Convolution: All Pixels\"].mean())\n",
    "print(df[\"Convolution: Mid Pts\"].mean())\n",
    "\n",
    "plt.scatter(range(len(df)), df[\"Convolution: Simple Averaging\"], color=\"black\")\n",
    "plt.scatter(range(len(df)), df[\"Convolution: All Pixels\"], color=\"red\")\n",
    "plt.scatter(range(len(df)), df[\"Convolution: Mid Pts\"], color=\"blue\")"
   ]
  },
  {
   "cell_type": "code",
   "execution_count": 4,
   "metadata": {},
   "outputs": [
    {
     "name": "stdout",
     "output_type": "stream",
     "text": [
      "Creating directory data/dx_test/\n"
     ]
    },
    {
     "ename": "KeyboardInterrupt",
     "evalue": "",
     "output_type": "error",
     "traceback": [
      "\u001b[0;31m---------------------------------------------------------------------------\u001b[0m",
      "\u001b[0;31mRuntimeError\u001b[0m                              Traceback (most recent call last)",
      "\u001b[1;32m/home/boomalope/anaconda3/envs/symbac/SyMBac/tests/dx_test_env/dx_trial.ipynb Cell 2\u001b[0m line \u001b[0;36m3\n\u001b[1;32m     <a href='vscode-notebook-cell:/home/boomalope/anaconda3/envs/symbac/SyMBac/tests/dx_test_env/dx_trial.ipynb#W1sZmlsZQ%3D%3D?line=30'>31</a>\u001b[0m colonysim \u001b[39m=\u001b[39m ColonySimulation(\n\u001b[1;32m     <a href='vscode-notebook-cell:/home/boomalope/anaconda3/envs/symbac/SyMBac/tests/dx_test_env/dx_trial.ipynb#W1sZmlsZQ%3D%3D?line=31'>32</a>\u001b[0m     cellmodeller_model\u001b[39m=\u001b[39m \u001b[39m'\u001b[39m\u001b[39mcellmodeller_ex1_simpleGrowth_modified.py\u001b[39m\u001b[39m'\u001b[39m,\n\u001b[1;32m     <a href='vscode-notebook-cell:/home/boomalope/anaconda3/envs/symbac/SyMBac/tests/dx_test_env/dx_trial.ipynb#W1sZmlsZQ%3D%3D?line=32'>33</a>\u001b[0m     max_cells \u001b[39m=\u001b[39m \u001b[39m7\u001b[39m,\n\u001b[0;32m   (...)\u001b[0m\n\u001b[1;32m     <a href='vscode-notebook-cell:/home/boomalope/anaconda3/envs/symbac/SyMBac/tests/dx_test_env/dx_trial.ipynb#W1sZmlsZQ%3D%3D?line=35'>36</a>\u001b[0m     save_dir \u001b[39m=\u001b[39m \u001b[39m\"\u001b[39m\u001b[39mdx_test/\u001b[39m\u001b[39m\"\u001b[39m,\n\u001b[1;32m     <a href='vscode-notebook-cell:/home/boomalope/anaconda3/envs/symbac/SyMBac/tests/dx_test_env/dx_trial.ipynb#W1sZmlsZQ%3D%3D?line=36'>37</a>\u001b[0m )\n\u001b[0;32m---> <a href='vscode-notebook-cell:/home/boomalope/anaconda3/envs/symbac/SyMBac/tests/dx_test_env/dx_trial.ipynb#W1sZmlsZQ%3D%3D?line=38'>39</a>\u001b[0m colonysim\u001b[39m.\u001b[39;49mrun_cellmodeller_sim(num_sim\u001b[39m=\u001b[39;49m\u001b[39m1\u001b[39;49m)\n\u001b[1;32m     <a href='vscode-notebook-cell:/home/boomalope/anaconda3/envs/symbac/SyMBac/tests/dx_test_env/dx_trial.ipynb#W1sZmlsZQ%3D%3D?line=39'>40</a>\u001b[0m colonysim\u001b[39m.\u001b[39mget_simulation_dirs()\n",
      "File \u001b[0;32m~/anaconda3/envs/symbac/SyMBac/tests/dx_test_env/../../SyMBac/colony_simulation.py:51\u001b[0m, in \u001b[0;36mColonySimulation.run_cellmodeller_sim\u001b[0;34m(self, num_sim)\u001b[0m\n\u001b[1;32m     50\u001b[0m     \u001b[39mpass\u001b[39;00m\n\u001b[0;32m---> 51\u001b[0m \u001b[39mself\u001b[39m\u001b[39m.\u001b[39msimulation \u001b[39m=\u001b[39m Simulator(\u001b[39mself\u001b[39;49m\u001b[39m.\u001b[39;49mcellmodeller_model, dt \u001b[39m=\u001b[39;49m \u001b[39m0.025\u001b[39;49m, clPlatformNum\u001b[39m=\u001b[39;49m\u001b[39m0\u001b[39;49m, clDeviceNum\u001b[39m=\u001b[39;49m\u001b[39m0\u001b[39;49m, saveOutput\u001b[39m=\u001b[39;49m\u001b[39mTrue\u001b[39;49;00m, pickleSteps\u001b[39m=\u001b[39;49m\u001b[39m1\u001b[39;49m,\n\u001b[1;32m     52\u001b[0m                 outputDirName\u001b[39m=\u001b[39;49m\u001b[39mf\u001b[39;49m\u001b[39m\"\u001b[39;49m\u001b[39m{\u001b[39;49;00m\u001b[39mself\u001b[39;49m\u001b[39m.\u001b[39;49msave_dir\u001b[39m}\u001b[39;49;00m\u001b[39m/\u001b[39;49m\u001b[39m{\u001b[39;49;00m\u001b[39mstr\u001b[39;49m(\u001b[39mself\u001b[39;49m\u001b[39m.\u001b[39;49mn_simulations)\u001b[39m}\u001b[39;49;00m\u001b[39m\"\u001b[39;49m, is_gui\u001b[39m=\u001b[39;49m\u001b[39mTrue\u001b[39;49;00m)\n\u001b[1;32m     54\u001b[0m \u001b[39m# Run the simulation to ~n cells\u001b[39;00m\n",
      "File \u001b[0;32m~/anaconda3/envs/symbac/lib/python3.11/site-packages/CellModeller/Simulator.py:71\u001b[0m, in \u001b[0;36mSimulator.__init__\u001b[0;34m(self, moduleName, dt, pickleSteps, outputDirName, moduleStr, saveOutput, clPlatformNum, clDeviceNum, is_gui)\u001b[0m\n\u001b[1;32m     70\u001b[0m     \u001b[39mself\u001b[39m\u001b[39m.\u001b[39mcfg_file \u001b[39m=\u001b[39m \u001b[39m'\u001b[39m\u001b[39mCellModeller/CMconfig.cfg\u001b[39m\u001b[39m'\u001b[39m\n\u001b[0;32m---> 71\u001b[0m \u001b[39mif\u001b[39;00m \u001b[39mnot\u001b[39;00m \u001b[39mself\u001b[39;49m\u001b[39m.\u001b[39;49minit_cl(platnum\u001b[39m=\u001b[39;49mclPlatformNum, devnum\u001b[39m=\u001b[39;49mclDeviceNum):\n\u001b[1;32m     72\u001b[0m     \u001b[39mprint\u001b[39m(\u001b[39m\"\u001b[39m\u001b[39mCouldn\u001b[39m\u001b[39m'\u001b[39m\u001b[39mt initialise OpenCL context\u001b[39m\u001b[39m\"\u001b[39m)\n",
      "File \u001b[0;32m~/anaconda3/envs/symbac/lib/python3.11/site-packages/CellModeller/Simulator.py:219\u001b[0m, in \u001b[0;36mSimulator.init_cl\u001b[0;34m(self, platnum, devnum)\u001b[0m\n\u001b[1;32m    218\u001b[0m \u001b[39m# Create a context and queue\u001b[39;00m\n\u001b[0;32m--> 219\u001b[0m \u001b[39mself\u001b[39m\u001b[39m.\u001b[39mCLContext \u001b[39m=\u001b[39m cl\u001b[39m.\u001b[39;49mContext(properties\u001b[39m=\u001b[39;49m[(cl\u001b[39m.\u001b[39;49mcontext_properties\u001b[39m.\u001b[39;49mPLATFORM, platform)],\n\u001b[1;32m    220\u001b[0m                                   devices\u001b[39m=\u001b[39;49m[device])\n\u001b[1;32m    221\u001b[0m \u001b[39mself\u001b[39m\u001b[39m.\u001b[39mCLQueue \u001b[39m=\u001b[39m cl\u001b[39m.\u001b[39mCommandQueue(\u001b[39mself\u001b[39m\u001b[39m.\u001b[39mCLContext)\n",
      "\u001b[0;31mRuntimeError\u001b[0m: Context failed: OUT_OF_HOST_MEMORY",
      "\nDuring handling of the above exception, another exception occurred:\n",
      "\u001b[0;31mKeyboardInterrupt\u001b[0m                         Traceback (most recent call last)",
      "\u001b[1;32m/home/boomalope/anaconda3/envs/symbac/SyMBac/tests/dx_test_env/dx_trial.ipynb Cell 2\u001b[0m line \u001b[0;36m4\n\u001b[1;32m     <a href='vscode-notebook-cell:/home/boomalope/anaconda3/envs/symbac/SyMBac/tests/dx_test_env/dx_trial.ipynb#W1sZmlsZQ%3D%3D?line=45'>46</a>\u001b[0m     \u001b[39mbreak\u001b[39;00m\n\u001b[1;32m     <a href='vscode-notebook-cell:/home/boomalope/anaconda3/envs/symbac/SyMBac/tests/dx_test_env/dx_trial.ipynb#W1sZmlsZQ%3D%3D?line=46'>47</a>\u001b[0m \u001b[39mexcept\u001b[39;00m:\n\u001b[1;32m     <a href='vscode-notebook-cell:/home/boomalope/anaconda3/envs/symbac/SyMBac/tests/dx_test_env/dx_trial.ipynb#W1sZmlsZQ%3D%3D?line=47'>48</a>\u001b[0m     \u001b[39m#Remove directory data if it exists\u001b[39;00m\n\u001b[0;32m---> <a href='vscode-notebook-cell:/home/boomalope/anaconda3/envs/symbac/SyMBac/tests/dx_test_env/dx_trial.ipynb#W1sZmlsZQ%3D%3D?line=48'>49</a>\u001b[0m     \u001b[39mif\u001b[39;00m os\u001b[39m.\u001b[39;49mpath\u001b[39m.\u001b[39;49mexists(\u001b[39m\"\u001b[39;49m\u001b[39mdata\u001b[39;49m\u001b[39m\"\u001b[39;49m):\n\u001b[1;32m     <a href='vscode-notebook-cell:/home/boomalope/anaconda3/envs/symbac/SyMBac/tests/dx_test_env/dx_trial.ipynb#W1sZmlsZQ%3D%3D?line=49'>50</a>\u001b[0m         os\u001b[39m.\u001b[39msystem(\u001b[39m\"\u001b[39m\u001b[39mrm -rf data\u001b[39m\u001b[39m\"\u001b[39m)\n\u001b[1;32m     <a href='vscode-notebook-cell:/home/boomalope/anaconda3/envs/symbac/SyMBac/tests/dx_test_env/dx_trial.ipynb#W1sZmlsZQ%3D%3D?line=50'>51</a>\u001b[0m     clear_output(wait\u001b[39m=\u001b[39m\u001b[39mTrue\u001b[39;00m)\n",
      "File \u001b[0;32m<frozen genericpath>:16\u001b[0m, in \u001b[0;36mexists\u001b[0;34m(path)\u001b[0m\n",
      "\u001b[0;31mKeyboardInterrupt\u001b[0m: "
     ]
    }
   ],
   "source": [
    "for t in range(TRIALS):\n",
    "\n",
    "    #Create directory data if it does not exist\n",
    "    NEW_FOLDER = PATH+SAVED_FOLDER+\"/\"+str(len(df))\n",
    "    if not os.path.exists(NEW_FOLDER):\n",
    "        os.makedirs(NEW_FOLDER)\n",
    "        \n",
    "    print(\"Current trial: \", t)\n",
    "    my_kernel = PSF_generator(\n",
    "        radius = 100, \n",
    "        wavelength = 0.75, \n",
    "        NA = 1.45, \n",
    "        n = 1.4, \n",
    "        resize_amount = 3,\n",
    "        pix_mic_conv = 0.065, \n",
    "        apo_sigma = 8, \n",
    "        mode=\"simple fluo\", \n",
    "        condenser = \"Ph3\",\n",
    "        offset = 0.0\n",
    "    )\n",
    "    my_kernel.calculate_PSF()\n",
    "\n",
    "    while True:\n",
    "        try:\n",
    "            colonysim = ColonySimulation(\n",
    "                cellmodeller_model= 'cellmodeller_ex1_simpleGrowth_modified.py',\n",
    "                max_cells = 7,\n",
    "                pix_mic_conv = 0.065,\n",
    "                resize_amount = 3,\n",
    "                save_dir = \"dx_test/\",\n",
    "            )\n",
    "\n",
    "            colonysim.run_cellmodeller_sim(num_sim=1)\n",
    "            colonysim.get_simulation_dirs()\n",
    "            pickles = colonysim.get_simulation_pickles()\n",
    "            colonysim.get_max_scene_size()\n",
    "\n",
    "            FRAME_CNT = len(pickles[-1])\n",
    "            colonysim.draw_simulation_OPL(n_jobs = 1, FL=True, density = 0.1, random_distribution = \"uniform\", distribution_args = (0.9, 3))\n",
    "            break\n",
    "        except:\n",
    "            #Remove directory data if it exists\n",
    "            if os.path.exists(\"data\"):\n",
    "                os.system(\"rm -rf data\")\n",
    "            clear_output(wait=True)\n",
    "            pass\n",
    "\n",
    "    my_renderer = ColonyRenderer(colonysim, my_kernel)\n",
    "    out = my_renderer.render_scene(-1)\n",
    "    psf = my_kernel.get_fluorescence_kernel(my_kernel.wavelength,my_kernel.NA,my_kernel.n,my_kernel.radius,my_kernel.scale)\n",
    "\n",
    "    #Try reading for image with multiple possible names (Hacky solution)\n",
    "    try:\n",
    "        ori = mpimg.imread(PATH + '/data/scenes/00{frame}.png'.format(frame=FRAME_CNT))\n",
    "        mask = mpimg.imread(PATH + '/data/masks/00{frame}.png'.format(frame=FRAME_CNT))\n",
    "    except:\n",
    "        ori = mpimg.imread(PATH + '/data/scenes/0{frame}.png'.format(frame=FRAME_CNT))\n",
    "        mask = mpimg.imread(PATH + '/data/masks/0{frame}.png'.format(frame=FRAME_CNT))    \n",
    "\n",
    "    with open(NEW_FOLDER+'/ori.pkl', 'wb') as file: \n",
    "        pickle.dump(ori, file)\n",
    "    with open(NEW_FOLDER+'/mask.pkl', 'wb') as file: \n",
    "        pickle.dump(mask, file)\n",
    "    with open(NEW_FOLDER+'/out.pkl', 'wb') as file: \n",
    "        pickle.dump(out, file)\n",
    "    with open(NEW_FOLDER+'/psf.pkl', 'wb') as file: \n",
    "        pickle.dump(psf, file)\n",
    "\n",
    "    #Run pipeline\n",
    "\n",
    "    ori = ori/max(ori.flatten())\n",
    "    mask = mask/max(mask.flatten())\n",
    "    out = out/max(out.flatten())\n",
    "\n",
    "    #Apply gaussian filter to out\n",
    "    outBlur = gaussian_filter(out, sigma=1)\n",
    "\n",
    "    #Resize mask to match out\n",
    "    maskRescale = cv2.resize(mask, outBlur.shape[::-1], interpolation = cv2.INTER_NEAREST)\n",
    "\n",
    "    #IMPT: All mask values are set to one\n",
    "    maskUnit = maskRescale.copy()\n",
    "\n",
    "    for i in range(len(maskUnit)):\n",
    "        for j in range(len(maskUnit[0])):\n",
    "            if (maskUnit[i][j] != 0):\n",
    "                maskUnit[i][j] = 1\n",
    "    \n",
    "    # Compute the 2d FFT of the input image\n",
    "    oriFreq = fftpack.fft2(ori)\n",
    "    maskFreq = fftpack.fft2(maskUnit)\n",
    "    outFreq = fftpack.fft2(outBlur)\n",
    "\n",
    "    # Shift the zero-frequency component to the center of the spectrum.\n",
    "    oriFreq = fftpack.fftshift(oriFreq)\n",
    "    maskFreq = fftpack.fftshift(maskFreq)\n",
    "    outFreq = fftpack.fftshift(outFreq)\n",
    "\n",
    "    #Transform mask.shape into odd values\n",
    "\n",
    "    psfShape = [0,0]\n",
    "    psfShape[0] = mask.shape[0] + 1 if mask.shape[0] % 2 == 0 else mask.shape[0]\n",
    "    psfShape[1] = mask.shape[1] + 1 if mask.shape[1] % 2 == 0 else mask.shape[1]\n",
    "\n",
    "    psfFreqMask= outFreq * np.conj(maskFreq) / (np.abs(maskFreq)**2 + ASSUMED_NOISE_LEVEL/np.max(np.abs(maskFreq)**2))\n",
    "    psfMask = fftpack.ifft2(psfFreqMask, shape=psfShape)\n",
    "    psfMask = fftpack.fftshift(psfMask)\n",
    "    psfModel = ApproxPSFBesselOptimise(np.abs(psfMask))\n",
    "\n",
    "    sourcePts = GetSourcePts(mask)\n",
    "    sourcePtsRescale = GetSourcePts(maskRescale)\n",
    "    recoveredImageAllPixels = InverseMatrix(outBlur, maskRescale, sourcePtsRescale, adjPts=0, learningRate = 1, psf=psfModel)\n",
    "    midPts = GetMidPts(maskRescale)\n",
    "    recoveredImageMidPts = InverseMatrix(outBlur, maskRescale, midPts, adjPts=0, learningRate = 1, psf=psfModel)\n",
    "\n",
    "    average_original_mask, average_original_intensity = GetAvgIntensityWithMask(ori,mask,sourcePts)\n",
    "    average_avg_output_mask, average_avg_output_intensity = GetAvgIntensityWithMask(out,maskRescale,sourcePtsRescale)\n",
    "    average_all_pixels_mask, average_all_pixels_intensity = GetAvgIntensityWithMask(recoveredImageAllPixels,maskRescale,sourcePtsRescale)\n",
    "    average_mid_pts_mask, average_mid_pts_intensity = GetAvgIntensityWithMask(recoveredImageMidPts,maskRescale,midPts)\n",
    "\n",
    "    # Sort average_original_mask into ascending order and sort average_original_intensity accordingly\n",
    "    average_original_mask, average_original_intensity = zip(*sorted(zip(average_original_mask, average_original_intensity)))\n",
    "    average_avg_output_mask, average_avg_output_intensity = zip(*sorted(zip(average_avg_output_mask, average_avg_output_intensity)))\n",
    "    average_all_pixels_mask, average_all_pixels_intensity = zip(*sorted(zip(average_all_pixels_mask, average_all_pixels_intensity)))\n",
    "    average_mid_pts_mask, average_mid_pts_intensity = zip(*sorted(zip(average_mid_pts_mask, average_mid_pts_intensity)))\n",
    "\n",
    "    for i in range(len(average_original_mask)):\n",
    "        assert(average_original_mask[i] == average_avg_output_mask[i])\n",
    "        assert(average_original_mask[i] == average_all_pixels_mask[i])\n",
    "        assert(average_original_mask[i] == average_mid_pts_mask[i])\n",
    "\n",
    "    correlation_avg_output = np.corrcoef(average_original_intensity,average_avg_output_intensity)[0][1]\n",
    "    correlation_all_pixels = np.corrcoef(average_original_intensity,average_all_pixels_intensity)[0][1]\n",
    "    correlation_mid_pts = np.corrcoef(average_original_intensity,average_mid_pts_intensity)[0][1]\n",
    "\n",
    "    print(\"Simple Averaging: \", correlation_avg_output)\n",
    "    print(\"All Pixels: \", correlation_all_pixels)\n",
    "    print(\"Mid Pts: \", correlation_mid_pts)\n",
    "\n",
    "    all_impt_info = []\n",
    "    all_impt_info.append(correlation_avg_output)\n",
    "    all_impt_info.append(correlation_all_pixels)\n",
    "    all_impt_info.append(correlation_mid_pts)\n",
    "\n",
    "    all_impt_info.append(my_kernel.radius)\n",
    "    all_impt_info.append(my_kernel.wavelength)\n",
    "    all_impt_info.append(my_kernel.NA)\n",
    "    all_impt_info.append(my_kernel.n)\n",
    "    all_impt_info.append(my_kernel.resize_amount)\n",
    "    all_impt_info.append(my_kernel.pix_mic_conv)\n",
    "    all_impt_info.append(my_kernel.apo_sigma)\n",
    "    all_impt_info.append(my_kernel.mode)\n",
    "    all_impt_info.append(my_kernel.condenser)\n",
    "    all_impt_info.append(my_kernel.offset)\n",
    "\n",
    "    all_impt_info.append(colonysim.cellmodeller_model)\n",
    "    all_impt_info.append(colonysim.max_cells)\n",
    "    all_impt_info.append(colonysim.pix_mic_conv)\n",
    "    all_impt_info.append(colonysim.resize_amount)    \n",
    "\n",
    "    #Add all impt info to df\n",
    "    df.loc[len(df)] = all_impt_info\n",
    "    df.to_csv(PATH+SAVED_FOLDER+\"/data.csv\", index=False)\n",
    "\n",
    "    #Remove directory data if it exists\n",
    "    if os.path.exists(\"data\"):\n",
    "        os.system(\"rm -rf data\")\n",
    "    \n",
    "    #Clear Jupyter output\n",
    "    clear_output(wait=True)\n",
    "\n"
   ]
  },
  {
   "cell_type": "code",
   "execution_count": 6,
   "metadata": {},
   "outputs": [
    {
     "name": "stdout",
     "output_type": "stream",
     "text": [
      "0.856171845183171\n",
      "0.9837899155063238\n",
      "0.9307525073755413\n"
     ]
    },
    {
     "data": {
      "text/plain": [
       "<matplotlib.collections.PathCollection at 0x7f5b04dd2250>"
      ]
     },
     "execution_count": 6,
     "metadata": {},
     "output_type": "execute_result"
    },
    {
     "name": "stderr",
     "output_type": "stream",
     "text": [
      "/home/boomalope/anaconda3/envs/symbac/lib/python3.11/site-packages/IPython/core/pylabtools.py:152: MatplotlibDeprecationWarning: savefig() got unexpected keyword argument \"orientation\" which is no longer supported as of 3.3 and will become an error two minor releases later\n",
      "  fig.canvas.print_figure(bytes_io, **kw)\n",
      "/home/boomalope/anaconda3/envs/symbac/lib/python3.11/site-packages/IPython/core/pylabtools.py:152: MatplotlibDeprecationWarning: savefig() got unexpected keyword argument \"facecolor\" which is no longer supported as of 3.3 and will become an error two minor releases later\n",
      "  fig.canvas.print_figure(bytes_io, **kw)\n",
      "/home/boomalope/anaconda3/envs/symbac/lib/python3.11/site-packages/IPython/core/pylabtools.py:152: MatplotlibDeprecationWarning: savefig() got unexpected keyword argument \"edgecolor\" which is no longer supported as of 3.3 and will become an error two minor releases later\n",
      "  fig.canvas.print_figure(bytes_io, **kw)\n",
      "/home/boomalope/anaconda3/envs/symbac/lib/python3.11/site-packages/IPython/core/pylabtools.py:152: MatplotlibDeprecationWarning: savefig() got unexpected keyword argument \"bbox_inches_restore\" which is no longer supported as of 3.3 and will become an error two minor releases later\n",
      "  fig.canvas.print_figure(bytes_io, **kw)\n"
     ]
    },
    {
     "data": {
      "image/png": "[encoded data removed]",
      "text/plain": [
       "<Figure size 1500x500 with 1 Axes>"
      ]
     },
     "metadata": {},
     "output_type": "display_data"
    }
   ],
   "source": [
    "print(df[\"Convolution: Simple Averaging\"].mean())\n",
    "print(df[\"Convolution: All Pixels\"].mean())\n",
    "print(df[\"Convolution: Mid Pts\"].mean())\n",
    "\n",
    "plt.scatter(range(len(df)), df[\"Convolution: Simple Averaging\"], color=\"black\")\n",
    "plt.scatter(range(len(df)), df[\"Convolution: All Pixels\"], color=\"red\")\n",
    "plt.scatter(range(len(df)), df[\"Convolution: Mid Pts\"], color=\"blue\")"
   ]
  }
 ],
 "metadata": {
  "kernelspec": {
   "display_name": "symbac",
   "language": "python",
   "name": "python3"
  },
  "language_info": {
   "codemirror_mode": {
    "name": "ipython",
    "version": 3
   },
   "file_extension": ".py",
   "mimetype": "text/x-python",
   "name": "python",
   "nbconvert_exporter": "python",
   "pygments_lexer": "ipython3",
   "version": "3.11.5"
  },
  "orig_nbformat": 4
 },
 "nbformat": 4,
 "nbformat_minor": 2
}
