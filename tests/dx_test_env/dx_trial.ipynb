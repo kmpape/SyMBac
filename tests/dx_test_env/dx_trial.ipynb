{
 "cells": [
  {
   "cell_type": "code",
   "execution_count": 1,
   "metadata": {},
   "outputs": [
    {
     "name": "stderr",
     "output_type": "stream",
     "text": [
      "/home/boomalope/anaconda3/envs/symbac/SyMBac/tests/dx_test_env/../../SyMBac/colony_simulation.py:8: TqdmExperimentalWarning: Using `tqdm.autonotebook.tqdm` in notebook mode. Use `tqdm.tqdm` instead to force console mode (e.g. in jupyter console)\n",
      "  from tqdm.autonotebook import tqdm\n"
     ]
    }
   ],
   "source": [
    "import numpy as np\n",
    "import os\n",
    "import pickle\n",
    "from IPython.display import clear_output\n",
    "%matplotlib inline\n",
    "import matplotlib.pyplot as plt\n",
    "import matplotlib.image as mpimg\n",
    "plt.rcParams['figure.figsize'] = [15, 5]\n",
    "import sys\n",
    "sys.path.insert(1, os.getcwd()+\"/../..\") # Not needed if you installed SyMBac using pip\n",
    "from SyMBac.colony_simulation import ColonySimulation\n",
    "from SyMBac.colony_renderer import ColonyRenderer\n",
    "from SyMBac.PSF import PSF_generator\n",
    "import numpy as np\n",
    "from scipy import fftpack\n",
    "from scipy.ndimage import gaussian_filter\n",
    "from utils import GetSourcePts, GetMidPts, InverseMatrix, ApproxPSFBesselOptimise, GetAvgIntensityWithMask\n",
    "import cv2\n",
    "\n",
    "#Remove directory data if it exists\n",
    "if os.path.exists(\"data\"):\n",
    "    os.system(\"rm -rf data\")"
   ]
  },
  {
   "cell_type": "code",
   "execution_count": 2,
   "metadata": {},
   "outputs": [
    {
     "name": "stdout",
     "output_type": "stream",
     "text": [
      "Creating directory data/dx_test/\n",
      "Set up OpenCL context:\n",
      "  Platform: NVIDIA CUDA\n",
      "  Device: NVIDIA GeForce GTX 1650\n",
      "Importing model cellmodeller_ex1_simpleGrowth_modified\n",
      "      10           2 cells           0 contacts    0.000020 hour(s) or 0.001199 minute(s) or 0.071913 second(s)\n",
      "      20           2 cells           0 contacts    0.000032 hour(s) or 0.001940 minute(s) or 0.116400 second(s)\n",
      "      30           2 cells           0 contacts    0.000044 hour(s) or 0.002668 minute(s) or 0.160065 second(s)\n",
      "      40           2 cells           0 contacts    0.000059 hour(s) or 0.003510 minute(s) or 0.210606 second(s)\n",
      "   40     3 cells       1 cts       2 iterations  residual = 0.000000\n",
      "      50           4 cells           2 contacts    0.000088 hour(s) or 0.005280 minute(s) or 0.316794 second(s)\n",
      "   50     4 cells       2 cts       2 iterations  residual = 0.000010\n",
      "      60           4 cells           2 contacts    0.000119 hour(s) or 0.007131 minute(s) or 0.427876 second(s)\n",
      "   60     4 cells       2 cts       2 iterations  residual = 0.000017\n",
      "      70           4 cells           3 contacts    0.000151 hour(s) or 0.009058 minute(s) or 0.543474 second(s)\n",
      "   70     4 cells       3 cts       3 iterations  residual = 0.001504\n",
      "      80           4 cells           3 contacts    0.000189 hour(s) or 0.011338 minute(s) or 0.680289 second(s)\n",
      "   80     4 cells       3 cts       3 iterations  residual = 0.003976\n",
      "      90           5 cells           4 contacts    0.000227 hour(s) or 0.013619 minute(s) or 0.817118 second(s)\n",
      "   90     6 cells       5 cts       4 iterations  residual = 0.001693\n"
     ]
    },
    {
     "data": {
      "application/vnd.jupyter.widget-view+json": {
       "model_id": "ac39896c6235440b8fb67a7b71292fb5",
       "version_major": 2,
       "version_minor": 0
      },
      "text/plain": [
       "Scene Draw:: 0it [00:00, ?it/s]"
      ]
     },
     "metadata": {},
     "output_type": "display_data"
    },
    {
     "name": "stderr",
     "output_type": "stream",
     "text": [
      "/home/boomalope/anaconda3/envs/symbac/SyMBac/tests/dx_test_env/../../SyMBac/PSF.py:178: RuntimeWarning: invalid value encountered in divide\n",
      "  PSF = (2 * jv(1, rr) / (rr)) ** 2\n"
     ]
    },
    {
     "name": "stdout",
     "output_type": "stream",
     "text": [
      "[92.85117095] [[0.0300071]]\n"
     ]
    },
    {
     "name": "stderr",
     "output_type": "stream",
     "text": [
      "/home/boomalope/anaconda3/envs/symbac/SyMBac/tests/dx_test_env/utils.py:341: RuntimeWarning: invalid value encountered in scalar divide\n",
      "  return (2*jv(1,x*a) / (x*a))**2\n"
     ]
    },
    {
     "name": "stdout",
     "output_type": "stream",
     "text": [
      "[0.14285715, 0.2857143, 0.42857143, 0.5714286, 0.71428573, 0.85714287, 1.0]\n",
      "[[1.        ]\n",
      " [0.75955403]\n",
      " [0.48272907]\n",
      " [0.67966473]\n",
      " [0.50927522]\n",
      " [0.97134458]\n",
      " [0.73674737]]\n",
      "[0.14285715, 0.2857143, 0.42857143, 0.5714286, 0.71428573, 0.85714287, 1.0]\n",
      "[[0.95152615]\n",
      " [0.84053882]\n",
      " [0.53013715]\n",
      " [0.72679253]\n",
      " [0.62270058]\n",
      " [1.        ]\n",
      " [0.72858361]]\n",
      "Simple Averaging:  0.931571839959712\n",
      "All Pixels:  0.9951566180387917\n",
      "Mid Pts:  0.9863986032851945\n"
     ]
    }
   ],
   "source": [
    "TRIALS = 10\n",
    "PATH = os.getcwd() \n",
    "SAVED_FOLDER = \"/test\"\n",
    "DATA = []\n",
    "NA_USED = [1, 2, 5, 10, 20]\n",
    "ASSUMED_NOISE_LEVEL = 1e7\n",
    "\n",
    "for t in range(TRIALS):\n",
    "\n",
    "    #Create directory data if it does not exist\n",
    "    NEW_FOLDER = PATH+SAVED_FOLDER+\"/\"+str(t)\n",
    "    if not os.path.exists(NEW_FOLDER):\n",
    "        os.makedirs(NEW_FOLDER)\n",
    "        \n",
    "    print(\"Current trial: \", t)\n",
    "    my_kernel = PSF_generator(\n",
    "        radius = 100, \n",
    "        wavelength = 0.75, \n",
    "        NA = 1.45, \n",
    "        n = 1.4, \n",
    "        resize_amount = 3,\n",
    "        pix_mic_conv = 0.065, \n",
    "        apo_sigma = 8, \n",
    "        mode=\"simple fluo\", \n",
    "        condenser = \"Ph3\",\n",
    "        offset = 0.02\n",
    "    )\n",
    "    my_kernel.calculate_PSF()\n",
    "\n",
    "    while True:\n",
    "        try:\n",
    "            colonysim = ColonySimulation(\n",
    "                cellmodeller_model= 'cellmodeller_ex1_simpleGrowth_modified.py',\n",
    "                max_cells = 7,\n",
    "                pix_mic_conv = 0.065,\n",
    "                resize_amount = 3,\n",
    "                save_dir = \"dx_test/\",\n",
    "            )\n",
    "\n",
    "            colonysim.run_cellmodeller_sim(num_sim=1)\n",
    "            colonysim.get_simulation_dirs()\n",
    "            pickles = colonysim.get_simulation_pickles()\n",
    "            colonysim.get_max_scene_size()\n",
    "\n",
    "            FRAME_CNT = len(pickles[-1])\n",
    "\n",
    "            colonysim.draw_simulation_OPL(n_jobs = 1, FL=True, density = 0.1, random_distribution = \"uniform\", distribution_args = (0.9, 3))\n",
    "            break\n",
    "        except:\n",
    "            #Remove directory data if it exists\n",
    "            if os.path.exists(\"data\"):\n",
    "                os.system(\"rm -rf data\")\n",
    "            clear_output(wait=True)\n",
    "            pass\n",
    "\n",
    "    my_renderer = ColonyRenderer(colonysim, my_kernel)\n",
    "    out = my_renderer.render_scene(-1)\n",
    "    psf = my_kernel.get_fluorescence_kernel(my_kernel.wavelength,my_kernel.NA,my_kernel.n,my_kernel.radius,my_kernel.scale)\n",
    "    ori = mpimg.imread(PATH + '/data/scenes/00{frame}.png'.format(frame=FRAME_CNT))\n",
    "    mask = mpimg.imread(PATH + '/data/masks/00{frame}.png'.format(frame=FRAME_CNT))    \n",
    "\n",
    "    with open(NEW_FOLDER+'/ori.pkl', 'wb') as file: \n",
    "        pickle.dump(ori, file)\n",
    "    with open(NEW_FOLDER+'/mask.pkl', 'wb') as file: \n",
    "        pickle.dump(mask, file)\n",
    "    with open(NEW_FOLDER+'/out.pkl', 'wb') as file: \n",
    "        pickle.dump(out, file)\n",
    "    with open(NEW_FOLDER+'/psf.pkl', 'wb') as file: \n",
    "        pickle.dump(psf, file)\n",
    "\n",
    "    #Run pipeline\n",
    "\n",
    "    ori = ori/max(ori.flatten())\n",
    "    mask = mask/max(mask.flatten())\n",
    "    out = out/max(out.flatten())\n",
    "\n",
    "    #Apply gaussian filter to out\n",
    "    outBlur = gaussian_filter(out, sigma=1)\n",
    "\n",
    "    #Resize mask to match out\n",
    "    maskRescale = cv2.resize(mask, outBlur.shape[::-1], interpolation = cv2.INTER_NEAREST)\n",
    "\n",
    "    #IMPT: All mask values are set to one\n",
    "    maskUnit = maskRescale.copy()\n",
    "\n",
    "    for i in range(len(maskUnit)):\n",
    "        for j in range(len(maskUnit[0])):\n",
    "            if (maskUnit[i][j] != 0):\n",
    "                maskUnit[i][j] = 1\n",
    "    \n",
    "    # Compute the 2d FFT of the input image\n",
    "    oriFreq = fftpack.fft2(ori)\n",
    "    maskFreq = fftpack.fft2(maskUnit)\n",
    "    outFreq = fftpack.fft2(outBlur)\n",
    "\n",
    "    # Shift the zero-frequency component to the center of the spectrum.\n",
    "    oriFreq = fftpack.fftshift(oriFreq)\n",
    "    maskFreq = fftpack.fftshift(maskFreq)\n",
    "    outFreq = fftpack.fftshift(outFreq)\n",
    "\n",
    "    #Transform mask.shape into odd values\n",
    "\n",
    "    psfShape = [0,0]\n",
    "    psfShape[0] = mask.shape[0] + 1 if mask.shape[0] % 2 == 0 else mask.shape[0]\n",
    "    psfShape[1] = mask.shape[1] + 1 if mask.shape[1] % 2 == 0 else mask.shape[1]\n",
    "\n",
    "    psfFreqMask= outFreq * np.conj(maskFreq) / (np.abs(maskFreq)**2 + ASSUMED_NOISE_LEVEL/np.max(np.abs(maskFreq)**2))\n",
    "    psfMask = fftpack.ifft2(psfFreqMask, shape=psfShape)\n",
    "    psfMask = fftpack.fftshift(psfMask)\n",
    "    psfModel = ApproxPSFBesselOptimise(np.abs(psfMask))\n",
    "\n",
    "    sourcePts = GetSourcePts(mask)\n",
    "    sourcePtsRescale = GetSourcePts(maskRescale)\n",
    "    recoveredImageAllPixels = InverseMatrix(outBlur, maskRescale, sourcePtsRescale, adjPts=0, learningRate = 1, psf=psfModel)\n",
    "    midPts = GetMidPts(maskRescale)\n",
    "    recoveredImageMidPts = InverseMatrix(outBlur, maskRescale, midPts, adjPts=0, learningRate = 1, psf=psfModel)\n",
    "\n",
    "    average_original_mask, average_original_intensity = GetAvgIntensityWithMask(ori,mask,sourcePts)\n",
    "    average_avg_output_mask, average_avg_output_intensity = GetAvgIntensityWithMask(out,maskRescale,sourcePtsRescale)\n",
    "    average_all_pixels_mask, average_all_pixels_intensity = GetAvgIntensityWithMask(recoveredImageAllPixels,maskRescale,sourcePtsRescale)\n",
    "    average_mid_pts_mask, average_mid_pts_intensity = GetAvgIntensityWithMask(recoveredImageMidPts,maskRescale,midPts)\n",
    "\n",
    "    # Sort average_original_mask into ascending order and sort average_original_intensity accordingly\n",
    "    average_original_mask, average_original_intensity = zip(*sorted(zip(average_original_mask, average_original_intensity)))\n",
    "    average_avg_output_mask, average_avg_output_intensity = zip(*sorted(zip(average_avg_output_mask, average_avg_output_intensity)))\n",
    "    average_all_pixels_mask, average_all_pixels_intensity = zip(*sorted(zip(average_all_pixels_mask, average_all_pixels_intensity)))\n",
    "    average_mid_pts_mask, average_mid_pts_intensity = zip(*sorted(zip(average_mid_pts_mask, average_mid_pts_intensity)))\n",
    "\n",
    "    for i in range(len(average_original_mask)):\n",
    "        assert(average_original_mask[i] == average_avg_output_mask[i])\n",
    "        assert(average_original_mask[i] == average_all_pixels_mask[i])\n",
    "        assert(average_original_mask[i] == average_mid_pts_mask[i])\n",
    "\n",
    "    correlation_avg_output = np.corrcoef(average_original_intensity,average_avg_output_intensity)[0][1]\n",
    "    correlation_all_pixels = np.corrcoef(average_original_intensity,average_all_pixels_intensity)[0][1]\n",
    "    correlation_mid_pts = np.corrcoef(average_original_intensity,average_mid_pts_intensity)[0][1]\n",
    "\n",
    "    print(\"Simple Averaging: \", correlation_avg_output)\n",
    "    print(\"All Pixels: \", correlation_all_pixels)\n",
    "    print(\"Mid Pts: \", correlation_mid_pts)\n",
    "\n",
    "    all_impt_info = []\n",
    "    all_impt_info.append(correlation_avg_output)\n",
    "    all_impt_info.append(correlation_all_pixels)\n",
    "    all_impt_info.append(correlation_mid_pts)\n",
    "\n",
    "    all_impt_info.append(my_kernel.radius)\n",
    "    all_impt_info.append(my_kernel.wavelength)\n",
    "    all_impt_info.append(my_kernel.NA)\n",
    "    all_impt_info.append(my_kernel.n)\n",
    "    all_impt_info.append(my_kernel.resize_amount)\n",
    "    all_impt_info.append(my_kernel.pix_mic_conv)\n",
    "    all_impt_info.append(my_kernel.apo_sigma)\n",
    "    all_impt_info.append(my_kernel.mode)\n",
    "    all_impt_info.append(my_kernel.condenser)\n",
    "    all_impt_info.append(my_kernel.offset)\n",
    "\n",
    "    all_impt_info.append(colonysim.cellmodeller_model)\n",
    "    all_impt_info.append(colonysim.max_cells)\n",
    "    all_impt_info.append(colonysim.pix_mic_conv)\n",
    "    all_impt_info.append(colonysim.resize_amount)    \n",
    "\n",
    "    #Add all impt info to DATA\n",
    "    DATA.append(all_impt_info)\n",
    "\n",
    "    #Remove directory data if it exists\n",
    "    if os.path.exists(\"data\"):\n",
    "        os.system(\"rm -rf data\")\n",
    "    \n",
    "    #Clear Jupyter output\n",
    "    clear_output(wait=True)\n",
    "\n"
   ]
  },
  {
   "cell_type": "code",
   "execution_count": 7,
   "metadata": {},
   "outputs": [],
   "source": [
    "# Convert DATA into csv file\n",
    "\n",
    "import pandas as pd\n",
    "\n",
    "column_headers = [\"Convolution: Simple Averaging\", \"Convolution: All Pixels\", \"Convolution: Mid Pts\", \"kernel.radius\", \"kernel.wavelength\", \"kernel.NA\", \"kernel.n\", \"kernel.resize_amount\", \"kernel.pix_mic_conv\", \"kernel.apo_sigma\", \"kernel.mode\", \"kernel.condenser\", \"kernel.offset\", \"colony.cellmodeller_model\", \"colony.max_cells\", \"colony.pix_mic_conv\", \"colony.resize_amount\"]\n",
    "\n",
    "df = pd.DataFrame(DATA, columns=column_headers)\n",
    "df.to_csv(PATH+SAVED_FOLDER+\"/data.csv\", index=False)\n"
   ]
  },
  {
   "cell_type": "code",
   "execution_count": 15,
   "metadata": {},
   "outputs": [
    {
     "name": "stdout",
     "output_type": "stream",
     "text": [
      "0.8501412162162321\n",
      "0.9686759240465841\n",
      "0.9381113848876099\n"
     ]
    },
    {
     "data": {
      "text/plain": [
       "<matplotlib.collections.PathCollection at 0x7ff514d13550>"
      ]
     },
     "execution_count": 15,
     "metadata": {},
     "output_type": "execute_result"
    },
    {
     "name": "stderr",
     "output_type": "stream",
     "text": [
      "/home/boomalope/anaconda3/envs/symbac/lib/python3.11/site-packages/IPython/core/pylabtools.py:152: MatplotlibDeprecationWarning: savefig() got unexpected keyword argument \"orientation\" which is no longer supported as of 3.3 and will become an error two minor releases later\n",
      "  fig.canvas.print_figure(bytes_io, **kw)\n",
      "/home/boomalope/anaconda3/envs/symbac/lib/python3.11/site-packages/IPython/core/pylabtools.py:152: MatplotlibDeprecationWarning: savefig() got unexpected keyword argument \"facecolor\" which is no longer supported as of 3.3 and will become an error two minor releases later\n",
      "  fig.canvas.print_figure(bytes_io, **kw)\n",
      "/home/boomalope/anaconda3/envs/symbac/lib/python3.11/site-packages/IPython/core/pylabtools.py:152: MatplotlibDeprecationWarning: savefig() got unexpected keyword argument \"edgecolor\" which is no longer supported as of 3.3 and will become an error two minor releases later\n",
      "  fig.canvas.print_figure(bytes_io, **kw)\n",
      "/home/boomalope/anaconda3/envs/symbac/lib/python3.11/site-packages/IPython/core/pylabtools.py:152: MatplotlibDeprecationWarning: savefig() got unexpected keyword argument \"bbox_inches_restore\" which is no longer supported as of 3.3 and will become an error two minor releases later\n",
      "  fig.canvas.print_figure(bytes_io, **kw)\n"
     ]
    },
    {
     "data": {
      "image/png": "[encoded data removed]",
      "text/plain": [
       "<Figure size 1500x500 with 1 Axes>"
      ]
     },
     "metadata": {},
     "output_type": "display_data"
    }
   ],
   "source": [
    "print(df[\"Convolution: Simple Averaging\"].mean())\n",
    "print(df[\"Convolution: All Pixels\"].mean())\n",
    "print(df[\"Convolution: Mid Pts\"].mean())\n",
    "\n",
    "plt.scatter(range(len(df)), df[\"Convolution: Simple Averaging\"], color=\"black\")\n",
    "plt.scatter(range(len(df)), df[\"Convolution: All Pixels\"], color=\"red\")\n",
    "plt.scatter(range(len(df)), df[\"Convolution: Mid Pts\"], color=\"blue\")"
   ]
  }
 ],
 "metadata": {
  "kernelspec": {
   "display_name": "symbac",
   "language": "python",
   "name": "python3"
  },
  "language_info": {
   "codemirror_mode": {
    "name": "ipython",
    "version": 3
   },
   "file_extension": ".py",
   "mimetype": "text/x-python",
   "name": "python",
   "nbconvert_exporter": "python",
   "pygments_lexer": "ipython3",
   "version": "3.11.5"
  },
  "orig_nbformat": 4
 },
 "nbformat": 4,
 "nbformat_minor": 2
}
