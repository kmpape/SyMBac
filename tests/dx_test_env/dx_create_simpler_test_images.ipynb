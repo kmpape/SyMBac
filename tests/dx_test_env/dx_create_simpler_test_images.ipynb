{
 "cells": [
  {
   "cell_type": "code",
   "execution_count": null,
   "metadata": {},
   "outputs": [],
   "source": [
    "import numpy as np\n",
    "import os\n",
    "import pickle\n",
    "%matplotlib inline\n",
    "import matplotlib.pyplot as plt\n",
    "plt.rcParams['figure.figsize'] = [15, 5]\n",
    "import sys\n",
    "sys.path.insert(1, os.getcwd()+\"/../..\") # Not needed if you installed SyMBac using pip\n",
    "from SyMBac.colony_renderer import ColonyRenderer, SimplifiedRenderer\n",
    "from SyMBac.PSF import PSF_generator"
   ]
  },
  {
   "cell_type": "code",
   "execution_count": null,
   "metadata": {},
   "outputs": [],
   "source": [
    "my_kernel = PSF_generator(\n",
    "    radius = 50, \n",
    "    wavelength = 0.75, \n",
    "    NA = 1.0, \n",
    "    n = 1.4, \n",
    "    resize_amount = 1, \n",
    "    pix_mic_conv = 0.065, \n",
    "    apo_sigma = 8, \n",
    "    mode=\"simple fluo\", \n",
    "    condenser = \"Ph3\",\n",
    "    offset = 0\n",
    ")\n",
    "my_kernel.calculate_PSF()\n",
    "my_kernel.plot_PSF()"
   ]
  },
  {
   "cell_type": "code",
   "execution_count": null,
   "metadata": {},
   "outputs": [],
   "source": [
    "WIDTH = 110\n",
    "HEIGHT = 110\n",
    "\n",
    "original = np.zeros((WIDTH,HEIGHT))\n",
    "mask = np.zeros((WIDTH,HEIGHT))\n",
    "\n",
    "selectedPts = [[60,10],[50,50],[60,30],[60,50],[40,40]]#,[50,25]]#,[50,75],[40,60],[40,80],[40,20]]\n",
    "w = 5\n",
    "h = 10\n",
    "for i,(x,y) in enumerate(selectedPts):\n",
    "    #Draw a circle centred aobut the point\n",
    "    for j in range(2*w):\n",
    "        for k in range(2*h):\n",
    "            if ((j-w)/w)**2 + ((k-h)/h)**2 < 1:\n",
    "                original[x+j,y+k] = ((i+1)/(len(selectedPts)))\n",
    "                mask[x+j,y+k] = (i+1)/len(selectedPts)\n",
    "\n",
    "my_renderer = SimplifiedRenderer(original,my_kernel)\n",
    "output = my_renderer.render_scene()\n",
    "\n",
    "f, axarr = plt.subplots(1,3)\n",
    "axarr[0].imshow(original)\n",
    "axarr[1].imshow(mask)\n",
    "axarr[2].imshow(output)\n",
    "plt.show()"
   ]
  },
  {
   "cell_type": "code",
   "execution_count": null,
   "metadata": {},
   "outputs": [],
   "source": [
    "psf = my_kernel.get_fluorescence_kernel(my_kernel.wavelength,my_kernel.NA,my_kernel.n,my_kernel.radius,my_kernel.scale)    \n",
    "size = psf.shape[1]\n",
    "central_psf = psf[psf.shape[1]//2]\n",
    "central_psf = central_psf[len(central_psf)//2:]\n",
    "plt.plot(central_psf)\n",
    "plt.show()"
   ]
  },
  {
   "cell_type": "code",
   "execution_count": null,
   "metadata": {},
   "outputs": [],
   "source": [
    "with open('ori.pkl', 'wb') as file: \n",
    "    pickle.dump(original, file)\n",
    "with open('mask.pkl', 'wb') as file: \n",
    "    pickle.dump(mask, file)\n",
    "with open('out.pkl', 'wb') as file: \n",
    "    pickle.dump(output, file)\n",
    "with open('psf.pkl', 'wb') as file: \n",
    "    pickle.dump(psf, file)"
   ]
  }
 ],
 "metadata": {
  "kernelspec": {
   "display_name": "symbac",
   "language": "python",
   "name": "python3"
  },
  "language_info": {
   "codemirror_mode": {
    "name": "ipython",
    "version": 3
   },
   "file_extension": ".py",
   "mimetype": "text/x-python",
   "name": "python",
   "nbconvert_exporter": "python",
   "pygments_lexer": "ipython3",
   "version": "3.11.5"
  },
  "orig_nbformat": 4
 },
 "nbformat": 4,
 "nbformat_minor": 2
}
