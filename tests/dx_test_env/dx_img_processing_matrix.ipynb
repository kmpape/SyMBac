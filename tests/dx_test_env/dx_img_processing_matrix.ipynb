{
 "cells": [
  {
   "cell_type": "code",
   "execution_count": null,
   "metadata": {},
   "outputs": [],
   "source": [
    "import pickle\n",
    "import os\n",
    "\n",
    "FOLDER = os.getcwd() + \"/4_pts_blurry\"\n",
    "\n",
    "with open(FOLDER+'/ori.pkl', 'rb') as file:   \n",
    "    ori = pickle.load(file)\n",
    "with open(FOLDER+'/mask.pkl', 'rb') as file:   \n",
    "    mask = pickle.load(file)\n",
    "with open(FOLDER+'/out.pkl', 'rb') as file:   \n",
    "    out = pickle.load(file)\n",
    "with open(FOLDER+'/psf.pkl', 'rb') as file:   \n",
    "    original_psf = pickle.load(file)\n"
   ]
  }
 ],
 "metadata": {
  "language_info": {
   "name": "python"
  },
  "orig_nbformat": 4
 },
 "nbformat": 4,
 "nbformat_minor": 2
}
