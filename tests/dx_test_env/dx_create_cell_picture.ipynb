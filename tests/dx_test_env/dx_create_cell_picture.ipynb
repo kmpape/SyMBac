{
 "cells": [
  {
   "cell_type": "code",
   "execution_count": null,
   "metadata": {},
   "outputs": [],
   "source": [
    "import numpy as np\n",
    "import os\n",
    "import pickle\n",
    "%matplotlib inline\n",
    "import matplotlib.pyplot as plt\n",
    "import matplotlib.image as mpimg\n",
    "plt.rcParams['figure.figsize'] = [15, 5]\n",
    "import sys\n",
    "sys.path.insert(1, os.getcwd()+\"/../..\") # Not needed if you installed SyMBac using pip\n",
    "from SyMBac.colony_simulation import ColonySimulation\n",
    "from SyMBac.colony_renderer import ColonyRenderer\n",
    "from SyMBac.PSF import PSF_generator\n",
    "\n",
    "#Remove directory data if it exists\n",
    "if os.path.exists(\"data\"):\n",
    "    os.system(\"rm -rf data\")"
   ]
  },
  {
   "cell_type": "code",
   "execution_count": null,
   "metadata": {},
   "outputs": [],
   "source": [
    "colonysim = ColonySimulation(\n",
    "    cellmodeller_model= 'cellmodeller_ex1_simpleGrowth_modified.py',\n",
    "    max_cells = 7,\n",
    "    pix_mic_conv = 0.03,\n",
    "    resize_amount = 1,\n",
    "    save_dir = \"dx_test/\",\n",
    ")\n",
    "\n",
    "colonysim.run_cellmodeller_sim(num_sim=1)\n",
    "colonysim.get_simulation_dirs()\n",
    "pickles = colonysim.get_simulation_pickles()\n",
    "colonysim.get_max_scene_size()\n",
    "\n",
    "FRAME_CNT = len(pickles[-1])"
   ]
  },
  {
   "cell_type": "code",
   "execution_count": null,
   "metadata": {},
   "outputs": [],
   "source": [
    "colonysim.draw_simulation_OPL(n_jobs = 1, FL=True, density = 0.1, random_distribution = \"uniform\", distribution_args = (0.9, 3))"
   ]
  },
  {
   "cell_type": "code",
   "execution_count": null,
   "metadata": {},
   "outputs": [],
   "source": [
    "my_kernel = PSF_generator(\n",
    "    radius = 50, \n",
    "    wavelength = 0.75, \n",
    "    NA = 1.45, \n",
    "    n = 1.4, \n",
    "    resize_amount = colonysim.resize_amount, \n",
    "    pix_mic_conv = colonysim.pix_mic_conv, \n",
    "    apo_sigma = 8, \n",
    "    mode=\"simple fluo\", \n",
    "    condenser = \"Ph3\",\n",
    "    offset = 0.02\n",
    ")\n",
    "\n",
    "my_kernel.calculate_PSF()\n",
    "my_kernel.plot_PSF()"
   ]
  },
  {
   "cell_type": "code",
   "execution_count": null,
   "metadata": {},
   "outputs": [],
   "source": [
    "psf = my_kernel.get_fluorescence_kernel(my_kernel.wavelength,my_kernel.NA,my_kernel.n,my_kernel.radius,my_kernel.scale)\n",
    "size = psf.shape[1]\n",
    "central_psf = psf[psf.shape[1]//2]\n",
    "central_psf = central_psf[len(central_psf)//2:]\n",
    "plt.plot(central_psf)"
   ]
  },
  {
   "cell_type": "code",
   "execution_count": null,
   "metadata": {},
   "outputs": [],
   "source": [
    "my_renderer = ColonyRenderer(colonysim, my_kernel)\n",
    "test_img = my_renderer.render_scene(-1)\n",
    "mask = my_renderer.mask_loader(-1)\n",
    "plt.imshow(test_img, cmap=\"Greys_r\")"
   ]
  },
  {
   "cell_type": "code",
   "execution_count": null,
   "metadata": {},
   "outputs": [],
   "source": [
    "import os\n",
    "\n",
    "PATH = os.getcwd()\n",
    "original = mpimg.imread(PATH + '/data/scenes/00{frame}.png'.format(frame=FRAME_CNT))\n",
    "mask = mpimg.imread(PATH + '/data/masks/00{frame}.png'.format(frame=FRAME_CNT))    \n",
    "\n",
    "f, axarr = plt.subplots(1,3)\n",
    "axarr[0].plot(100,100)\n",
    "axarr[0].imshow(original)\n",
    "axarr[1].imshow(mask)\n",
    "axarr[2].imshow(test_img)\n",
    "plt.show()"
   ]
  },
  {
   "cell_type": "code",
   "execution_count": null,
   "metadata": {},
   "outputs": [],
   "source": [
    "with open('ori.pkl', 'wb') as file: \n",
    "    pickle.dump(original, file)\n",
    "with open('mask.pkl', 'wb') as file: \n",
    "    pickle.dump(mask, file)\n",
    "with open('out.pkl', 'wb') as file: \n",
    "    pickle.dump(test_img, file)\n",
    "with open('psf.pkl', 'wb') as file: \n",
    "    pickle.dump(psf, file)"
   ]
  }
 ],
 "metadata": {
  "kernelspec": {
   "display_name": "symbac",
   "language": "python",
   "name": "python3"
  },
  "language_info": {
   "codemirror_mode": {
    "name": "ipython",
    "version": 3
   },
   "file_extension": ".py",
   "mimetype": "text/x-python",
   "name": "python",
   "nbconvert_exporter": "python",
   "pygments_lexer": "ipython3",
   "version": "3.11.5"
  },
  "orig_nbformat": 4
 },
 "nbformat": 4,
 "nbformat_minor": 2
}
