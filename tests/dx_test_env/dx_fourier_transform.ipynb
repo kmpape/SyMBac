{
 "cells": [
  {
   "cell_type": "code",
   "execution_count": null,
   "metadata": {},
   "outputs": [],
   "source": [
    "import pickle\n",
    "import os\n",
    "\n",
    "FOLDER = os.getcwd() + \"/7cells_blurry\"\n",
    "ASSUMED_NOISE_LEVEL = 1e7\n",
    "\n",
    "with open(FOLDER+'/ori.pkl', 'rb') as file:   \n",
    "    ori = pickle.load(file)\n",
    "with open(FOLDER+'/mask.pkl', 'rb') as file:   \n",
    "    mask = pickle.load(file)\n",
    "with open(FOLDER+'/out.pkl', 'rb') as file:   \n",
    "    out = pickle.load(file)\n",
    "with open(FOLDER+'/psf.pkl', 'rb') as file:   \n",
    "    psf = pickle.load(file)\n"
   ]
  },
  {
   "cell_type": "code",
   "execution_count": null,
   "metadata": {},
   "outputs": [],
   "source": [
    "%matplotlib inline\n",
    "import matplotlib.pyplot as plt\n",
    "import matplotlib.image as mpimg\n",
    "plt.rcParams['figure.figsize'] = [15, 5]\n",
    "import numpy as np\n",
    "from scipy import fftpack\n",
    "from scipy.ndimage import gaussian_filter\n",
    "from utils import GetSourcePts, InverseMatrix, ApproxPSFBesselOptimise, GetAvgIntensityWithMask\n",
    "import cv2"
   ]
  },
  {
   "cell_type": "code",
   "execution_count": null,
   "metadata": {},
   "outputs": [],
   "source": [
    "ori = ori/max(ori.flatten())\n",
    "mask = mask/max(mask.flatten())\n",
    "out = out/max(out.flatten())\n",
    "\n",
    "f, axarr = plt.subplots(1,3)\n",
    "axarr[0].imshow(ori)\n",
    "axarr[1].imshow(mask)\n",
    "axarr[2].imshow(out)\n",
    "plt.show()"
   ]
  },
  {
   "cell_type": "code",
   "execution_count": null,
   "metadata": {},
   "outputs": [],
   "source": [
    "#Apply gaussian filter to out\n",
    "\n",
    "outBlur = gaussian_filter(out, sigma=1)\n",
    "plt.imshow(outBlur)\n",
    "\n",
    "#Resize mask to match out\n",
    "maskRescale = cv2.resize(mask, outBlur.shape[::-1], interpolation = cv2.INTER_NEAREST)\n",
    "\n",
    "#IMPT: All mask values are set to one\n",
    "maskUnit = maskRescale.copy()\n",
    "\n",
    "for i in range(len(maskUnit)):\n",
    "    for j in range(len(maskUnit[0])):\n",
    "        if (maskUnit[i][j] != 0):\n",
    "            maskUnit[i][j] = 1\n",
    "\n",
    "plt.imshow(maskUnit)"
   ]
  },
  {
   "cell_type": "code",
   "execution_count": null,
   "metadata": {},
   "outputs": [],
   "source": [
    "# Compute the 2d FFT of the input image\n",
    "oriFreq = fftpack.fft2(ori)\n",
    "maskFreq = fftpack.fft2(maskUnit)\n",
    "outFreq = fftpack.fft2(outBlur)\n",
    "\n",
    "# Shift the zero-frequency component to the center of the spectrum.\n",
    "oriFreq = fftpack.fftshift(oriFreq)\n",
    "maskFreq = fftpack.fftshift(maskFreq)\n",
    "outFreq = fftpack.fftshift(outFreq)\n",
    "\n",
    "f, axarr = plt.subplots(1,3)\n",
    "axarr[0].imshow(np.abs(oriFreq))\n",
    "axarr[1].imshow(np.abs(maskFreq))\n",
    "axarr[2].imshow(np.abs(outFreq))\n",
    "plt.show()"
   ]
  },
  {
   "cell_type": "code",
   "execution_count": null,
   "metadata": {},
   "outputs": [],
   "source": [
    "#Transform mask.shape into odd values\n",
    "\n",
    "psfShape = [0,0]\n",
    "psfShape[0] = mask.shape[0] + 1 if mask.shape[0] % 2 == 0 else mask.shape[0]\n",
    "psfShape[1] = mask.shape[1] + 1 if mask.shape[1] % 2 == 0 else mask.shape[1]\n"
   ]
  },
  {
   "cell_type": "code",
   "execution_count": null,
   "metadata": {},
   "outputs": [],
   "source": [
    "#Only run validation step if output shape is the same as input shape\n",
    "\n",
    "if (out.shape == ori.shape):\n",
    "    psfFreqIdeal = outFreq * np.conj(oriFreq) / (np.abs(oriFreq)**2 + ASSUMED_NOISE_LEVEL/np.max(np.abs(oriFreq)**2))\n",
    "    psfIdeal = fftpack.ifft2(psfFreqIdeal,shape=psfShape)\n",
    "    psfIdeal = fftpack.fftshift(psfIdeal)\n",
    "\n",
    "    f, axarr = plt.subplots(1,2)\n",
    "    axarr[0].imshow(np.abs(psfFreqIdeal))\n",
    "    axarr[1].imshow(np.abs(psfIdeal))\n",
    "    plt.show()\n",
    "    \n",
    "\n",
    "    (maskWidth, maskHeight) = mask.shape\n",
    "    maskSize = maskWidth*maskHeight\n",
    "\n",
    "    #Normalise x axis of original psf to 1\n",
    "    original_psf_y = psf[len(psf)//2]\n",
    "    original_psf_y = original_psf_y[len(original_psf_y)//2:]\n",
    "    original_psf_x = np.linspace(0,1,len(original_psf_y))*len(original_psf_y)/maskSize\n",
    "    plt.plot(original_psf_x,original_psf_y)\n",
    "\n",
    "    new_psf_y = np.abs(psfIdeal)\n",
    "    new_psf_y = new_psf_y/max(new_psf_y.flatten())\n",
    "    new_psf_y = new_psf_y[len(new_psf_y)//2]\n",
    "    new_psf_y = new_psf_y[len(new_psf_y)//2:]\n",
    "    new_psf_x = np.linspace(0,1,len(new_psf_y))*len(new_psf_y)/maskSize\n",
    "\n",
    "    plt.plot(new_psf_x,new_psf_y)\n",
    "    plt.show()"
   ]
  },
  {
   "cell_type": "code",
   "execution_count": null,
   "metadata": {},
   "outputs": [],
   "source": [
    "\n",
    "#We try to find psf with mask instead\n",
    "\n",
    "psfFreqMask= outFreq * np.conj(maskFreq) / (np.abs(maskFreq)**2 + ASSUMED_NOISE_LEVEL/np.max(np.abs(maskFreq)**2))\n",
    "psfMask = fftpack.ifft2(psfFreqMask, shape=psfShape)\n",
    "psfMask = fftpack.fftshift(psfMask)\n",
    "\n",
    "f, axarr = plt.subplots(1,3)\n",
    "axarr[0].imshow(np.abs(psfFreqMask))\n",
    "axarr[1].imshow(np.abs(psfMask))\n",
    "\n",
    "#Blur psf with gaussian\n",
    "#psfSmooth = gaussian_filter(np.abs(psfMask), sigma=1)\n",
    "psfModel = ApproxPSFBesselOptimise(np.abs(psfMask), cutoff = 0.5)\n",
    "\n",
    "axarr[2].imshow(np.abs(psfModel))\n"
   ]
  },
  {
   "cell_type": "code",
   "execution_count": null,
   "metadata": {},
   "outputs": [],
   "source": [
    "#Only run validation step if output shape is the same as input shape\n",
    "\n",
    "if (out.shape == ori.shape):\n",
    "    (maskWidth, maskHeight) = mask.shape\n",
    "    maskSize = maskWidth*maskHeight\n",
    "\n",
    "    #Normalise x axis of original psf to 1\n",
    "    original_psf_y = psf[len(psf)//2]\n",
    "    original_psf_y = original_psf_y[len(original_psf_y)//2:]\n",
    "    original_psf_x = np.linspace(0,1,len(original_psf_y))*len(original_psf_y)/maskSize\n",
    "    plt.plot(original_psf_x,original_psf_y)\n",
    "\n",
    "    new_psf_y = np.abs(psfModel)\n",
    "    new_psf_y = new_psf_y/max(new_psf_y.flatten())\n",
    "    new_psf_y = new_psf_y[len(new_psf_y)//2]\n",
    "    new_psf_y = new_psf_y[len(new_psf_y)//2:]\n",
    "    new_psf_x = np.linspace(0,1,len(new_psf_y))*len(new_psf_y)/maskSize\n",
    "    plt.plot(new_psf_x,new_psf_y)\n",
    "    plt.show()"
   ]
  },
  {
   "cell_type": "code",
   "execution_count": null,
   "metadata": {},
   "outputs": [],
   "source": [
    "sourcePts = GetSourcePts(mask)\n",
    "sourcePtsRescale = GetSourcePts(maskRescale)\n",
    "recoveredImage = InverseMatrix(outBlur, maskRescale, sourcePtsRescale, adjPts=0, learningRate = 1, psf=psfModel)"
   ]
  },
  {
   "cell_type": "code",
   "execution_count": null,
   "metadata": {},
   "outputs": [],
   "source": [
    "f, axarr = plt.subplots(1,3)\n",
    "axarr[0].imshow(out)\n",
    "axarr[1].imshow(mask)\n",
    "axarr[2].imshow(recoveredImage)\n",
    "plt.show()"
   ]
  },
  {
   "cell_type": "code",
   "execution_count": null,
   "metadata": {},
   "outputs": [],
   "source": [
    "#Get average intensity in each mask\n",
    "\n",
    "average_original_mask, average_original_intensity = GetAvgIntensityWithMask(ori,mask,sourcePts)\n",
    "average_output_mask, average_output_intensity = GetAvgIntensityWithMask(out,maskRescale,sourcePtsRescale)\n",
    "average_custom_mask, average_custom_intensity = GetAvgIntensityWithMask(recoveredImage,maskRescale,sourcePtsRescale)\n",
    "\n",
    "assert(average_custom_intensity.all()==average_original_intensity.all())\n",
    "assert(average_output_intensity.all()==average_original_intensity.all())\n",
    "\n",
    "plt.plot(average_original_intensity,average_output_intensity,'bo')\n",
    "plt.plot(average_original_intensity,average_custom_intensity,'ro')\n",
    "plt.show()\n",
    "\n",
    "#Calculate correlation coefficient\n",
    "print(\"Default: \", np.corrcoef(average_original_intensity,average_output_intensity))\n",
    "print(\"Custom: \", np.corrcoef(average_original_intensity,average_custom_intensity))\n"
   ]
  }
 ],
 "metadata": {
  "kernelspec": {
   "display_name": "symbac",
   "language": "python",
   "name": "python3"
  },
  "language_info": {
   "codemirror_mode": {
    "name": "ipython",
    "version": 3
   },
   "file_extension": ".py",
   "mimetype": "text/x-python",
   "name": "python",
   "nbconvert_exporter": "python",
   "pygments_lexer": "ipython3",
   "version": "3.11.5"
  },
  "orig_nbformat": 4
 },
 "nbformat": 4,
 "nbformat_minor": 2
}
